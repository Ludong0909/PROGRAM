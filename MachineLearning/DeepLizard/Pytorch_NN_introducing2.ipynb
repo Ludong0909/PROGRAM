{
 "cells": [
  {
   "attachments": {},
   "cell_type": "markdown",
   "metadata": {},
   "source": [
    "# Pytorch神经网络构建(二)（14-28节）"
   ]
  },
  {
   "cell_type": "markdown",
   "metadata": {},
   "source": [
    "## 3. 神经网络与深度学习"
   ]
  },
  {
   "attachments": {},
   "cell_type": "markdown",
   "metadata": {},
   "source": [
    "### Notice\n",
    "\n",
    "When access a dataset, we need to note that:\n",
    "\n",
    "- Who created the dataset?\n",
    "- How was the dataset created?\n",
    "- What transformations were uesd?\n",
    "- What intent does the dataset have?\n",
    "- Possible unintentional consequences?\n",
    "- Is the dataset biased?\n",
    "- Are there ethical issues with the dataset?\n"
   ]
  },
  {
   "cell_type": "markdown",
   "metadata": {},
   "source": [
    "### 3.1 Fashion-MNIST 数据集的起源"
   ]
  },
  {
   "cell_type": "markdown",
   "metadata": {},
   "source": [
    "* 计算机程序一般由两个主要部分组成：代码和数据\n",
    "* 对于深度学习而言，软件即为网络本身，尤其是在训练过程中通过训练产生的权重\n",
    "* 神经网络程序员的工作是通过训练来监督和指导学习过程(可以看做是编写软件或代码的间接方式)\n",
    "#### 3.1.1 Fashion-MNIST数据集\n",
    "* MNIST是非常著名的手写数字数据集 (M:Modify; NIST: National Institute of Standard and Technology)\n",
    "* MNIST中共有7万张图像：6万张用于训练；1万张用于测试；共0—9十个类别\n",
    "* Fashion-MNIST数据集来自Zalando网站：10类别对应10种服饰；7万张 28x28的灰度图像\n",
    "* Fashion-MNIST的目的是取代MNIST数据集，用作基准来测试机器学习算法\n",
    "* Fashion-MNIST与MNIST数据集的异同：(1)异：MNIST数据集中图像都是手写图像，而Fashion-MNIST中的是真实图像；(2)同：这两个数据集具有相同的数据规模，图像大小，数据格式，以及训练集和测试集的分割方式\n",
    "* MNIST为何如此受欢迎：1.该数据集的规模允许深度学习研究者快速地检查和复现它们的算法；2.在所有的深度学习框架中都能使用该数据集\n",
    "* Pytorch中的torchvision包可以加载fashion-mnist数据集"
   ]
  },
  {
   "cell_type": "markdown",
   "metadata": {},
   "source": [
    "### 3.2 使用torchvision导入和加载数据集\n",
    "#### 3.2.1 创建深度学习项目的流程：\n",
    "1. 准备数据集\n",
    "2. 创建网络模型\n",
    "3. 训练网络模型\n",
    "4. 分析结果\n",
    "#### 3.2.2 数据准备遵守ETL过程：\n",
    "* 提取(extract)、转换(transform)、加载(load)\n",
    "* pytorch中自带的包，能够将ETL过程变得简单\n",
    "#### 3.2.3 数据的准备：\n",
    "* 1.提取：从源数据中获取fashion-mnist图像数据\n",
    "* 2.转换：将数据转换成张量的形式\n",
    "* 3.加载：将数据封装成对象，使其更容易访问\n",
    "* * Fashion-MNIST 与 MNIST数据集在调用上最大的不同就是URL的不同\n",
    "* * torch.utils.data.Dataset:一个用于表示数据集的抽象类\n",
    "* * torch.utils.data.DataLoader: 包装数据集并提供对底层的访问"
   ]
  },
  {
   "cell_type": "code",
   "execution_count": 1,
   "metadata": {},
   "outputs": [
    {
     "name": "stdout",
     "output_type": "stream",
     "text": [
      "Downloading http://fashion-mnist.s3-website.eu-central-1.amazonaws.com/train-images-idx3-ubyte.gz\n",
      "Downloading http://fashion-mnist.s3-website.eu-central-1.amazonaws.com/train-images-idx3-ubyte.gz to ./data/FashionMNIST\\FashionMNIST\\raw\\train-images-idx3-ubyte.gz\n"
     ]
    },
    {
     "name": "stderr",
     "output_type": "stream",
     "text": [
      "100%|██████████| 26421880/26421880 [03:51<00:00, 114002.00it/s] \n"
     ]
    },
    {
     "name": "stdout",
     "output_type": "stream",
     "text": [
      "Extracting ./data/FashionMNIST\\FashionMNIST\\raw\\train-images-idx3-ubyte.gz to ./data/FashionMNIST\\FashionMNIST\\raw\n",
      "\n",
      "Downloading http://fashion-mnist.s3-website.eu-central-1.amazonaws.com/train-labels-idx1-ubyte.gz\n",
      "Downloading http://fashion-mnist.s3-website.eu-central-1.amazonaws.com/train-labels-idx1-ubyte.gz to ./data/FashionMNIST\\FashionMNIST\\raw\\train-labels-idx1-ubyte.gz\n"
     ]
    },
    {
     "name": "stderr",
     "output_type": "stream",
     "text": [
      "100%|██████████| 29515/29515 [00:00<00:00, 99183.41it/s]\n"
     ]
    },
    {
     "name": "stdout",
     "output_type": "stream",
     "text": [
      "Extracting ./data/FashionMNIST\\FashionMNIST\\raw\\train-labels-idx1-ubyte.gz to ./data/FashionMNIST\\FashionMNIST\\raw\n",
      "\n",
      "Downloading http://fashion-mnist.s3-website.eu-central-1.amazonaws.com/t10k-images-idx3-ubyte.gz\n",
      "Downloading http://fashion-mnist.s3-website.eu-central-1.amazonaws.com/t10k-images-idx3-ubyte.gz to ./data/FashionMNIST\\FashionMNIST\\raw\\t10k-images-idx3-ubyte.gz\n"
     ]
    },
    {
     "name": "stderr",
     "output_type": "stream",
     "text": [
      "100%|██████████| 4422102/4422102 [00:06<00:00, 668069.78it/s] \n"
     ]
    },
    {
     "name": "stdout",
     "output_type": "stream",
     "text": [
      "Extracting ./data/FashionMNIST\\FashionMNIST\\raw\\t10k-images-idx3-ubyte.gz to ./data/FashionMNIST\\FashionMNIST\\raw\n",
      "\n",
      "Downloading http://fashion-mnist.s3-website.eu-central-1.amazonaws.com/t10k-labels-idx1-ubyte.gz\n",
      "Downloading http://fashion-mnist.s3-website.eu-central-1.amazonaws.com/t10k-labels-idx1-ubyte.gz to ./data/FashionMNIST\\FashionMNIST\\raw\\t10k-labels-idx1-ubyte.gz\n"
     ]
    },
    {
     "name": "stderr",
     "output_type": "stream",
     "text": [
      "100%|██████████| 5148/5148 [00:00<?, ?it/s]"
     ]
    },
    {
     "name": "stdout",
     "output_type": "stream",
     "text": [
      "Extracting ./data/FashionMNIST\\FashionMNIST\\raw\\t10k-labels-idx1-ubyte.gz to ./data/FashionMNIST\\FashionMNIST\\raw\n",
      "\n"
     ]
    },
    {
     "name": "stderr",
     "output_type": "stream",
     "text": [
      "\n"
     ]
    }
   ],
   "source": [
    "import numpy as np\n",
    "import pandas as pd\n",
    "import torch\n",
    "import torchvision\n",
    "import torchvision.transforms as transforms # 可帮助对数据进行转换\n",
    "\n",
    "train_set = torchvision.datasets.FashionMNIST(\n",
    "    root = './data/FashionMNIST',   # 数据集在本地的存储位置\n",
    "    train = True,                   # 数据集用于训练\n",
    "    download = True,                # 如果本地没有数据，就自动下载\n",
    "    transform = transforms.Compose([\n",
    "        transforms.ToTensor()         \n",
    "    ])                              # 将图像转换成张量\n",
    ")\n",
    "\n",
    "train_loader = torch.utils.data.DataLoader(train_set)\n",
    "# 训练集被打包或加载到数据加载器中，可以以我们期望的格式来访问基础数据；\n",
    "# 数据加载器使我们能够访问数据并提供查询功能"
   ]
  },
  {
   "cell_type": "code",
   "execution_count": null,
   "metadata": {},
   "outputs": [],
   "source": [
    "# Abstract class\n",
    "# Here is a example of defining a dataset\n",
    "\n",
    "'''\n",
    "Dataset = []\n",
    "class OHLC(Dataset):\n",
    "    def __init__(self, csv_file):\n",
    "        self.data = pd.read_csv(csv_file)\n",
    "        \n",
    "    def __getitem__(self, index):  # gets the element of the dataset at a specific index location within the dataset\n",
    "        r = self.data.iloc[index]\n",
    "        label = torch.tensor(r.is_up_day, dtype=torch.long)\n",
    "        sample = self.normalize(torch.tensor([r.open, r.high, r.low, r.close]))\n",
    "        return sample, label\n",
    "    \n",
    "    def __len__(self):  # return the length of dataset\n",
    "        return len(self.data)\n",
    "'''\n",
    "    \n"
   ]
  },
  {
   "cell_type": "markdown",
   "metadata": {},
   "source": [
    "### 3.3 数据集的访问"
   ]
  },
  {
   "cell_type": "code",
   "execution_count": 9,
   "metadata": {},
   "outputs": [],
   "source": [
    "import torch \n",
    "import torchvision\n",
    "import torchvision.transforms as transforms\n",
    "\n",
    "train_set = torchvision.datasets.FashionMNIST(\n",
    "    root = './data/FashionMNIST',\n",
    "    train = True,\n",
    "    download = True,\n",
    "    transform = transforms.Compose([\n",
    "        transforms.ToTensor()\n",
    "    ])\n",
    ")\n",
    "\n",
    "train_loader = torch.utils.data.DataLoader(train_set, batch_size=10)"
   ]
  },
  {
   "cell_type": "code",
   "execution_count": 6,
   "metadata": {},
   "outputs": [
    {
     "name": "stdout",
     "output_type": "stream",
     "text": [
      "60000\n",
      "tensor([9, 0, 0,  ..., 3, 0, 5])\n",
      "tensor([6000, 6000, 6000, 6000, 6000, 6000, 6000, 6000, 6000, 6000])\n"
     ]
    },
    {
     "name": "stderr",
     "output_type": "stream",
     "text": [
      "C:\\Users\\User\\AppData\\Local\\Packages\\PythonSoftwareFoundation.Python.3.10_qbz5n2kfra8p0\\LocalCache\\local-packages\\Python310\\site-packages\\torchvision\\datasets\\mnist.py:65: UserWarning: train_labels has been renamed targets\n",
      "  warnings.warn(\"train_labels has been renamed targets\")\n"
     ]
    }
   ],
   "source": [
    "import numpy as np\n",
    "import matplotlib.pyplot as plt\n",
    "\n",
    "torch.set_printoptions(linewidth=120)     # 设置打印行宽\n",
    "print(len(train_set))\n",
    "print(train_set.train_labels)\n",
    "print(train_set.train_labels.bincount())    # bincount:张量中每个值出现的频数"
   ]
  },
  {
   "attachments": {},
   "cell_type": "markdown",
   "metadata": {},
   "source": [
    "* 要想从训练集对象中访问一个单独的元素，首先要将一个训练集对象(train_set)传递给python的iter()函数，以此返回一个表示数据流的对象；然后就可以使用next函数来获取数据流中的元素\n",
    "\n",
    "\n",
    "- The iter() function is used to create an iterator object from an iterable. It takes an iterable as an argument and returns an iterator object. The iterator object can then be used to retrieve elements from the iterable using the next() function.\n",
    "\n",
    "- The data structure of an iterator in Python is not typically a specific data structure itself, but rather an object that implements the iterator protocol. The iterator protocol defines two methods: __iter__() and __next__().\n",
    "\n",
    "    - __iter__() Method:\n",
    "    The __iter__() method returns the iterator object itself. This method is called when you use the iter() function on an object, and it allows the object to be used in a for loop or with other iterator-related functions.\n",
    "\n",
    "    - __next__() Method:\n",
    "    The __next__() method is responsible for returning the next item from the iterator. It is called each time you use the next() function on an iterator object. If there are no more items in the iterator, the __next__() method raises the StopIteration exception.\n",
    "\n"
   ]
  },
  {
   "cell_type": "code",
   "execution_count": 2,
   "metadata": {},
   "outputs": [
    {
     "name": "stdout",
     "output_type": "stream",
     "text": [
      "1\n",
      "2\n",
      "3\n"
     ]
    }
   ],
   "source": [
    "my_list = [1, 2, 3, 4, 5]\n",
    "my_iter = iter(my_list)\n",
    "\n",
    "print(next(my_iter))  # Output: 1\n",
    "print(next(my_iter))  # Output: 2\n",
    "print(next(my_iter))  # Output: 3\n"
   ]
  },
  {
   "cell_type": "code",
   "execution_count": 4,
   "metadata": {},
   "outputs": [
    {
     "name": "stdout",
     "output_type": "stream",
     "text": [
      "2\n",
      "<class 'tuple'>\n"
     ]
    }
   ],
   "source": [
    "# 查看单个样本\n",
    "sample = next(iter(train_set))\n",
    "print(len(sample))\n",
    "print(type(sample))"
   ]
  },
  {
   "cell_type": "code",
   "execution_count": 5,
   "metadata": {},
   "outputs": [
    {
     "data": {
      "text/plain": [
       "torch.Size([1, 28, 28])"
      ]
     },
     "execution_count": 5,
     "metadata": {},
     "output_type": "execute_result"
    }
   ],
   "source": [
    "# 将sample解压成图像和标签\n",
    "image = sample[0]\n",
    "label = sample[1]\n",
    "\n",
    "# or\n",
    "#image, label = sample\n",
    "\n",
    "image.shape"
   ]
  },
  {
   "cell_type": "code",
   "execution_count": 7,
   "metadata": {},
   "outputs": [
    {
     "name": "stdout",
     "output_type": "stream",
     "text": [
      "label: 9\n",
      "<class 'int'>\n"
     ]
    },
    {
     "data": {
      "image/png": "[encoded data removed]",
      "text/plain": [
       "<Figure size 640x480 with 1 Axes>"
      ]
     },
     "metadata": {},
     "output_type": "display_data"
    }
   ],
   "source": [
    "# 显示图像和标签\n",
    "plt.imshow(image.squeeze(), cmap='gray')    # [1, 28, 28]->[28,28] squeeze the color channel\n",
    "print('label:', label)  # ankle boot\n",
    "print(type(label))  # pythorc altomatically turn dtype to int"
   ]
  },
  {
   "cell_type": "code",
   "execution_count": 10,
   "metadata": {},
   "outputs": [
    {
     "name": "stdout",
     "output_type": "stream",
     "text": [
      "2\n",
      "<class 'list'>\n",
      "torch.Size([10, 1, 28, 28])\n",
      "torch.Size([10])\n"
     ]
    }
   ],
   "source": [
    "# 查看批量样本\n",
    "batch= next(iter(train_loader))\n",
    "print(len(batch))\n",
    "print(type(batch))\n",
    "images, labels = batch\n",
    "print(images.shape)\n",
    "print(labels.shape)"
   ]
  },
  {
   "cell_type": "code",
   "execution_count": 12,
   "metadata": {},
   "outputs": [
    {
     "name": "stdout",
     "output_type": "stream",
     "text": [
      "torch.Size([3, 62, 152])\n",
      "labels: tensor([9, 0, 0, 3, 0, 2, 7, 2, 5, 5])\n"
     ]
    },
    {
     "data": {
      "image/png": "[encoded data removed]",
      "text/plain": [
       "<Figure size 1500x1500 with 1 Axes>"
      ]
     },
     "metadata": {},
     "output_type": "display_data"
    }
   ],
   "source": [
    "# display a batch of figure\n",
    "grid= torchvision.utils.make_grid(images,nrow =5)\n",
    "print(grid.shape) # (channel, height, width)\n",
    "plt.figure(figsize=(15, 15))\n",
    "\n",
    "# plt.imshow((height, width, channels))\n",
    "plt.imshow(np.transpose(grid,(1,2,0)))   # transform tensor to array\n",
    "\n",
    "print('labels:', labels)\n",
    "\n",
    "### can also modify batchsize to display more figures ###"
   ]
  },
  {
   "cell_type": "markdown",
   "metadata": {},
   "source": [
    "#### 3.3.1 不平衡数据集\n",
    "关于数据不均衡的问题可以读文章：A systematic study of the class imbalance problem in convolutional neural networks"
   ]
  },
  {
   "cell_type": "markdown",
   "metadata": {},
   "source": [
    "### 3.4 网络建立\n",
    "#### 3.4.1 class和object的区分\n",
    "* class 就是一个实际对象的蓝图或描述\n",
    "* object 就是事物本身\n",
    "* 创建的对象需要在类的实例中调用对象\n",
    "* * 一个给定类的所有实例都有两个核心组件：方法和属性\n",
    "* * 方法代表代码，属性代表数据；方法和属性是由类定义的\n",
    "* * 属性用于描述对象的特征；方法用于描述对象的行为，即对象能够做什么\n",
    "* * 在一个项目中可以有许多对象，即给定类的实例可以同时存在（可在一个类中创建多个对象）\n",
    "* * 类用于封装方法和属性"
   ]
  },
  {
   "cell_type": "markdown",
   "metadata": {},
   "source": [
    "#### 3.4.2 类和实例(对象)<python基础知识补充>\n",
    "* 类是抽象的模板，用于表述具有相同属性和方法的对象的集合，类的命名尽量见名知意\n",
    "* 对象是真实的，见得到摸得着的东西\n",
    "* 类的定义：class 类名():\n",
    "* 类的组成：类名；属性（一组数据）；方法（允许进行的操作）"
   ]
  },
  {
   "cell_type": "code",
   "execution_count": 1,
   "metadata": {},
   "outputs": [],
   "source": [
    "# 类的创建\n",
    "class Lizard:\n",
    "    def __init__(self, name):    # 创建对象时自动运行，不用额外调用,无返回值\n",
    "        self.name = name\n",
    "    def set_name(self, name):\n",
    "        self.name = name"
   ]
  },
  {
   "cell_type": "code",
   "execution_count": 2,
   "metadata": {},
   "outputs": [
    {
     "name": "stdout",
     "output_type": "stream",
     "text": [
      "deep\n",
      "lizard\n"
     ]
    }
   ],
   "source": [
    "# 类的调用\n",
    "lizard = Lizard('deep')\n",
    "print(lizard.name)\n",
    "lizard.set_name('lizard')\n",
    "print(lizard.name)"
   ]
  },
  {
   "cell_type": "markdown",
   "metadata": {},
   "source": [
    "#### 3.4.3 面向对象编程与pytorch的结合\n",
    "* 构建一个神经网络的主要组件是层（pytorch神经网络库中包含了帮助构造层的类）\n",
    "* 神经网络中的每一层都有两个主要组成部分：转换和权重（转换代表代码；权重代表数据）\n",
    "* forward方法（前向传输）：张量通过每层的变换向前流动，直到达到输出层\n",
    "* 构建神经网络时必须提供前向方法，前向方法即为实际的变换\n",
    "* 使用pytorch创建神经网络的步骤：\n",
    "* 1.扩展nn.Module基类\n",
    "* 2.定义层(layers)为类属性\n",
    "* 3.实现前向方法"
   ]
  },
  {
   "cell_type": "code",
   "execution_count": 39,
   "metadata": {},
   "outputs": [],
   "source": [
    "# CNN网络的建立\n",
    "import torch.nn as nn\n",
    "class Network(nn.Module):   #()中加入nn.Module可以使得Network类继承Module基类中的所有功能\n",
    "    def __init__(self):\n",
    "        super(Network, self).__init__()     # 对继承的父类的属性进行初始化，使用父类的方法来进行初始化\n",
    "        self.conv1 = nn.Conv2d(in_channels=1, out_channels=6, kernel_size=5)  # (1,6,5) means: (color channel on input imgs, hyperparam, filter size)\n",
    "        self.conv2 = nn.Conv2d(in_channels=6, out_channels=12, kernel_size=5)\n",
    "        self.fc1 = nn.Linear(in_features=12*4*4, out_features=120)        # 从卷积层传入线性层需要对张量flatten\n",
    "        self.fc2 = nn.Linear(in_features=120, out_features=60)\n",
    "        self.out = nn.Linear(in_features=60, out_features=10)  # (60,10) means: (feturesize of previous layer's output, the class of MNIST)\n",
    "    def forward(self, t):\n",
    "        # implement the forward pass\n",
    "        return t"
   ]
  },
  {
   "attachments": {},
   "cell_type": "markdown",
   "metadata": {},
   "source": [
    "后面会学到池化(pool)操作，现在不理解没关系，但是要记住卷积核计算的输出公式\n",
    "作者使用的数据集使用的图片尺寸是28*28，卷积核大小是5*5，步长为1，共有6个卷积核\n",
    "在经历一个池化窗口为2*2的操作，就变成了4 *4 *12，也就是第一个全连接层的12 *4 *4"
   ]
  },
  {
   "cell_type": "code",
   "execution_count": 40,
   "metadata": {},
   "outputs": [
    {
     "data": {
      "text/plain": [
       "Network(\n",
       "  (conv1): Conv2d(1, 6, kernel_size=(5, 5), stride=(1, 1))\n",
       "  (conv2): Conv2d(6, 12, kernel_size=(5, 5), stride=(1, 1))\n",
       "  (fc1): Linear(in_features=192, out_features=120, bias=True)\n",
       "  (fc2): Linear(in_features=120, out_features=60, bias=True)\n",
       "  (out): Linear(in_features=60, out_features=10, bias=True)\n",
       ")"
      ]
     },
     "execution_count": 40,
     "metadata": {},
     "output_type": "execute_result"
    }
   ],
   "source": [
    "network = Network()     # 创建网络对象network\n",
    "network"
   ]
  },
  {
   "cell_type": "markdown",
   "metadata": {},
   "source": [
    "### 3.5 CNN构建及网络参数的使用\n",
    "在上述的Network类中，我们定义了两个卷积层和一个线性层；两个主要的部分封装在其中，即前向函数的定义和权重张量；每个层中权重张量包含了随着我们的网络在训练过程中学习而更新的权重值（这就是在网络类中将层定义为类属性的原因）；在Module类中，pytorch可以跟踪每一层的权重张量，由于我们在创建Network类时扩展了Module类，也就自动继承了该功能。\n",
    "* Parameter和Argument的区别：\n",
    "* * Parameter在函数定义中使用，可将其看作是占位符；(形参)\n",
    "* * Argument是当函数被调用时传递给函数的实际值；（实参）\n",
    "* Parameter的两种类型：\n",
    "* 1.Hyperparameters:其值是手动和任意确定的；要构建神经网络：kernel_size, out_channels, out_features都需要手动选择\n",
    "* 2.Data dependent Hyperparameters:其值是依赖于数据的参数\n",
    "* * 该参数位于网络的开始或末端，即第一个卷积层的输入通道和最后一个卷积层的输出特征图\n",
    "* * 第一个卷积层的输入通道依赖于构成训练集的图像内部的彩色通道的数量（灰度图像是1，彩色图像是3）\n",
    "* * 输出层的输出特征依赖于训练集中类的数量（fashion-MNIST数据集中的类型为10，则输出层的out_features=10）\n",
    "* * 通常情况下，一层的输入是上一层的输出（即：卷积层中所有输入通道和线性层中的输入特征都依赖于上一层的数据）\n",
    "* 当张量从卷积层传入线性层时，张量必须是flatten的"
   ]
  },
  {
   "cell_type": "markdown",
   "metadata": {},
   "source": [
    "|     Parameter     |     Description      |\n",
    "|:----------------------|:-------------------------|\n",
    "|kernel_size| 设置滤波器的大小；滤波器的数量就是输出通道数|\n",
    "|out_channels| 设置滤波器的数量，即为输出通道数|\n",
    "|out_features| 设置输出张量的大小|"
   ]
  },
  {
   "cell_type": "markdown",
   "metadata": {},
   "source": [
    "### 3.6 CNN的权重\n",
    "* 可学习参数：是在训练过程中学习的参数，初值是选择的任意值，其值在网络学习的过程中以迭代的方式进行更新\n",
    "* 说网络在学习是指：网络在学习参数的适合的值，适合的值就是能使损失函数最小化的值\n",
    "* 可学习的参数是网络的权重，存在于每一层中\n",
    "* 当我们扩展类的时候，我们会得到它的所有功能，为了得到它，我们可以添加额外的功能，也可覆盖现有的功能\n",
    "* 在python中，所有特殊的面向对象的方法通常都有前双下划线和后双下划线（__init__, __repr__）"
   ]
  },
  {
   "cell_type": "code",
   "execution_count": 12,
   "metadata": {},
   "outputs": [],
   "source": [
    "# Network类没有扩展Module基类\n",
    "import torch.nn as nn\n",
    "class Network():\n",
    "    def __init__(self):\n",
    "        #super(Network, self).__init__()\n",
    "        self.conv1 = nn.Conv2d(in_channels=1, out_channels=6, kernel_size=5)\n",
    "        self.conv2 = nn.Conv2d(in_channels=6, out_channels=12, kernel_size=5)\n",
    "        self.fc1 = nn.Linear(in_features=12*4*4, out_features=120)\n",
    "        self.fc2 = nn.Linear(in_features=120, out_features=60)\n",
    "        self.out = nn.Linear(in_features=60, out_features=10)\n",
    "    def forward(self,t):\n",
    "        # implement the forward pass\n",
    "        return t"
   ]
  },
  {
   "cell_type": "code",
   "execution_count": 13,
   "metadata": {},
   "outputs": [
    {
     "data": {
      "text/plain": [
       "<__main__.Network at 0x22587c614a8>"
      ]
     },
     "execution_count": 13,
     "metadata": {},
     "output_type": "execute_result"
    }
   ],
   "source": [
    "network = Network()\n",
    "network"
   ]
  },
  {
   "cell_type": "markdown",
   "metadata": {},
   "source": [
    "* 如下所示，在未扩展module时，可使用__repr__函数实现正常输出"
   ]
  },
  {
   "cell_type": "code",
   "execution_count": 14,
   "metadata": {},
   "outputs": [],
   "source": [
    "import torch.nn as nn\n",
    "class Network():\n",
    "    def __init__(self):\n",
    "        #super(Network, self).__init__()\n",
    "        self.conv1 = nn.Conv2d(in_channels=1, out_channels=6, kernel_size=5)\n",
    "        self.conv2 = nn.Conv2d(in_channels=6, out_channels=12, kernel_size=5)\n",
    "        self.fc1 = nn.Linear(in_features=12*4*4, out_features=120)\n",
    "        self.fc2 = nn.Linear(in_features=120, out_features=60)\n",
    "        self.out = nn.Linear(in_features=60, out_features=10)\n",
    "    def forward(self,t):\n",
    "        # implement the forward pass\n",
    "        return t\n",
    "    def __repr__(self):\n",
    "        return \"lizard\""
   ]
  },
  {
   "cell_type": "code",
   "execution_count": 15,
   "metadata": {},
   "outputs": [
    {
     "data": {
      "text/plain": [
       "lizard"
      ]
     },
     "execution_count": 15,
     "metadata": {},
     "output_type": "execute_result"
    }
   ],
   "source": [
    "network = Network()\n",
    "network"
   ]
  },
  {
   "cell_type": "markdown",
   "metadata": {},
   "source": [
    "* 可使用点符号来访问指定的层"
   ]
  },
  {
   "cell_type": "code",
   "execution_count": 6,
   "metadata": {},
   "outputs": [
    {
     "data": {
      "text/plain": [
       "Conv2d(1, 6, kernel_size=(5, 5), stride=(1, 1))"
      ]
     },
     "execution_count": 6,
     "metadata": {},
     "output_type": "execute_result"
    }
   ],
   "source": [
    "network.conv1"
   ]
  },
  {
   "cell_type": "code",
   "execution_count": 16,
   "metadata": {},
   "outputs": [
    {
     "data": {
      "text/plain": [
       "Parameter containing:\n",
       "tensor([[[[ 0.1325, -0.1655,  0.0673, -0.0484,  0.0902],\n",
       "          [ 0.0786,  0.1996,  0.1328,  0.0983, -0.1863],\n",
       "          [ 0.1934,  0.1327,  0.1872, -0.1716, -0.1416],\n",
       "          [ 0.0615,  0.1469, -0.0585, -0.0281, -0.1568],\n",
       "          [ 0.1771, -0.0918,  0.0050, -0.1956, -0.0712]]],\n",
       "\n",
       "\n",
       "        [[[-0.1567,  0.1811,  0.0305, -0.0664,  0.0489],\n",
       "          [ 0.1546,  0.0873,  0.0405,  0.1718,  0.0761],\n",
       "          [-0.0070,  0.1500, -0.0711, -0.0291, -0.1426],\n",
       "          [-0.1603, -0.0678, -0.0596, -0.0591, -0.0640],\n",
       "          [-0.1811,  0.0783,  0.0253, -0.0430, -0.0880]]],\n",
       "\n",
       "\n",
       "        [[[-0.0098, -0.1732, -0.1451,  0.1322, -0.0294],\n",
       "          [-0.0846, -0.1342,  0.1161, -0.0878,  0.0790],\n",
       "          [-0.0406, -0.1548,  0.0628, -0.1769,  0.0636],\n",
       "          [-0.0008, -0.0608,  0.0189,  0.1753, -0.1456],\n",
       "          [-0.0914, -0.0730, -0.0258,  0.0701,  0.1515]]],\n",
       "\n",
       "\n",
       "        [[[ 0.1788, -0.1618, -0.1806, -0.0663, -0.1851],\n",
       "          [-0.0973,  0.1717,  0.0285,  0.0828, -0.1105],\n",
       "          [-0.1014,  0.0474,  0.1491, -0.0819,  0.1760],\n",
       "          [-0.1993,  0.0348,  0.0440, -0.0355, -0.1349],\n",
       "          [-0.1803,  0.1329,  0.1890,  0.0625, -0.0295]]],\n",
       "\n",
       "\n",
       "        [[[ 0.1935, -0.0924, -0.0569, -0.1453,  0.0372],\n",
       "          [ 0.0052,  0.0265, -0.1254,  0.0028,  0.1498],\n",
       "          [-0.1514, -0.0699, -0.1946,  0.0115,  0.0428],\n",
       "          [-0.0723, -0.0161,  0.1664, -0.1927,  0.1840],\n",
       "          [-0.0158, -0.1727, -0.1929, -0.1457,  0.1194]]],\n",
       "\n",
       "\n",
       "        [[[ 0.0776, -0.1308,  0.1688,  0.1946,  0.1381],\n",
       "          [-0.0123, -0.1584, -0.0497,  0.1271,  0.0759],\n",
       "          [ 0.1713,  0.0891,  0.0306, -0.1303,  0.0739],\n",
       "          [-0.0695,  0.0731,  0.0821, -0.1610, -0.1501],\n",
       "          [ 0.0327,  0.0636,  0.1744, -0.1782,  0.1641]]]], requires_grad=True)"
      ]
     },
     "execution_count": 16,
     "metadata": {},
     "output_type": "execute_result"
    }
   ],
   "source": [
    "# 输出conv1的权重\n",
    "network.conv1.weight"
   ]
  },
  {
   "cell_type": "code",
   "execution_count": 17,
   "metadata": {},
   "outputs": [
    {
     "data": {
      "text/plain": [
       "torch.Size([6, 1, 5, 5])"
      ]
     },
     "execution_count": 17,
     "metadata": {},
     "output_type": "execute_result"
    }
   ],
   "source": [
    "# 输出conv1权重的形状\n",
    "network.conv1.weight.shape"
   ]
  },
  {
   "cell_type": "code",
   "execution_count": 18,
   "metadata": {},
   "outputs": [
    {
     "data": {
      "text/plain": [
       "torch.Size([120, 192])"
      ]
     },
     "execution_count": 18,
     "metadata": {},
     "output_type": "execute_result"
    }
   ],
   "source": [
    "# 对于全连接层，由于需要flatten的张量输入，故此时的权重张量是个秩为2的高度、宽度轴\n",
    "network.fc1.weight.shape   # height=>out_features; width=>in_features"
   ]
  },
  {
   "attachments": {},
   "cell_type": "markdown",
   "metadata": {},
   "source": [
    "* 为了追踪网络中的所有权重张量，pytorch有一个叫Parameter的类，该类扩展了Tensor类， 所以每一层的权重张量就是这个参数类的一个实例 (instance)\n",
    "* 权重矩阵定义了线性函数(线性映射)"
   ]
  },
  {
   "cell_type": "code",
   "execution_count": 20,
   "metadata": {},
   "outputs": [
    {
     "data": {
      "text/plain": [
       "tensor([30., 40., 50.])"
      ]
     },
     "execution_count": 20,
     "metadata": {},
     "output_type": "execute_result"
    }
   ],
   "source": [
    "# 张量的乘法\n",
    "in_features = torch.tensor([1,2,3,4],dtype=torch.float32)\n",
    "weight_matrix = torch.tensor([\n",
    "    [1,2,3,4],\n",
    "    [2,3,4,5],\n",
    "    [3,4,5,6]\n",
    "], dtype=torch.float32)\n",
    "weight_matrix.matmul(in_features)     # matmul: matrix multiply"
   ]
  },
  {
   "cell_type": "code",
   "execution_count": 1,
   "metadata": {},
   "outputs": [],
   "source": [
    "# CNN网络的建立\n",
    "import torch.nn as nn\n",
    "class Network(nn.Module):   #()中加入nn.Module可以使得Network类继承Module基类中的所有功能\n",
    "    def __init__(self):\n",
    "        super(Network, self).__init__()     # 对继承的父类的属性进行初始化，使用父类的方法来进行初始化\n",
    "        self.conv1 = nn.Conv2d(in_channels=1, out_channels=6, kernel_size=5)\n",
    "        self.conv2 = nn.Conv2d(in_channels=6, out_channels=12, kernel_size=5)\n",
    "        self.fc1 = nn.Linear(in_features=12*4*4, out_features=120)        # 从卷积层传入线性层需要对张量flatten\n",
    "        self.fc2 = nn.Linear(in_features=120, out_features=60)\n",
    "        self.out = nn.Linear(in_features=60, out_features=10)\n",
    "    def forward(self, t):\n",
    "        # implement the forward pass\n",
    "        return t"
   ]
  },
  {
   "cell_type": "code",
   "execution_count": 38,
   "metadata": {},
   "outputs": [
    {
     "data": {
      "text/plain": [
       "Network(\n",
       "  (conv1): Conv2d(1, 6, kernel_size=(5, 5), stride=(1, 1))\n",
       "  (conv2): Conv2d(6, 12, kernel_size=(5, 5), stride=(1, 1))\n",
       "  (fc1): Linear(in_features=192, out_features=120, bias=True)\n",
       "  (fc2): Linear(in_features=120, out_features=60, bias=True)\n",
       "  (out): Linear(in_features=60, out_features=10, bias=True)\n",
       ")"
      ]
     },
     "execution_count": 38,
     "metadata": {},
     "output_type": "execute_result"
    }
   ],
   "source": [
    "network = Network()\n",
    "network"
   ]
  },
  {
   "cell_type": "code",
   "execution_count": 27,
   "metadata": {},
   "outputs": [
    {
     "name": "stdout",
     "output_type": "stream",
     "text": [
      "torch.Size([6, 1, 5, 5])\n",
      "torch.Size([6])\n",
      "torch.Size([12, 6, 5, 5])\n",
      "torch.Size([12])\n",
      "torch.Size([120, 192])\n",
      "torch.Size([120])\n",
      "torch.Size([60, 120])\n",
      "torch.Size([60])\n",
      "torch.Size([10, 10])\n",
      "torch.Size([10])\n"
     ]
    }
   ],
   "source": [
    "# 访问所有的参数\n",
    "# 方法1：\n",
    "for param in network.parameters():\n",
    "    print(param.shape)"
   ]
  },
  {
   "cell_type": "code",
   "execution_count": 28,
   "metadata": {},
   "outputs": [
    {
     "name": "stdout",
     "output_type": "stream",
     "text": [
      "conv1.weight \t\t torch.Size([6, 1, 5, 5])\n",
      "conv1.bias \t\t torch.Size([6])\n",
      "conv2.weight \t\t torch.Size([12, 6, 5, 5])\n",
      "conv2.bias \t\t torch.Size([12])\n",
      "fc1.weight \t\t torch.Size([120, 192])\n",
      "fc1.bias \t\t torch.Size([120])\n",
      "fc2.weight \t\t torch.Size([60, 120])\n",
      "fc2.bias \t\t torch.Size([60])\n",
      "out.weight \t\t torch.Size([10, 10])\n",
      "out.bias \t\t torch.Size([10])\n"
     ]
    }
   ],
   "source": [
    "# 方法2： \n",
    "for name, param in network.named_parameters():\n",
    "    print(name,'\\t\\t', param.shape)"
   ]
  },
  {
   "cell_type": "markdown",
   "metadata": {},
   "source": [
    "### 3.7 pytorch可调用模块\n",
    "#### 3.7.1 Linear的工作原理"
   ]
  },
  {
   "cell_type": "code",
   "execution_count": 2,
   "metadata": {},
   "outputs": [
    {
     "ename": "NameError",
     "evalue": "name 'torch' is not defined",
     "output_type": "error",
     "traceback": [
      "\u001b[1;31m---------------------------------------------------------------------------\u001b[0m",
      "\u001b[1;31mNameError\u001b[0m                                 Traceback (most recent call last)",
      "Cell \u001b[1;32mIn[2], line 2\u001b[0m\n\u001b[0;32m      1\u001b[0m \u001b[39m# 1. 张量的乘法\u001b[39;00m\n\u001b[1;32m----> 2\u001b[0m in_features \u001b[39m=\u001b[39m torch\u001b[39m.\u001b[39mtensor([\u001b[39m1\u001b[39m,\u001b[39m2\u001b[39m,\u001b[39m3\u001b[39m,\u001b[39m4\u001b[39m], dtype\u001b[39m=\u001b[39mtorch\u001b[39m.\u001b[39mfloat32)\n\u001b[0;32m      3\u001b[0m weight_matrix \u001b[39m=\u001b[39m torch\u001b[39m.\u001b[39mtensor([\n\u001b[0;32m      4\u001b[0m     [\u001b[39m1\u001b[39m,\u001b[39m2\u001b[39m,\u001b[39m3\u001b[39m,\u001b[39m4\u001b[39m],\n\u001b[0;32m      5\u001b[0m     [\u001b[39m2\u001b[39m,\u001b[39m3\u001b[39m,\u001b[39m4\u001b[39m,\u001b[39m5\u001b[39m],\n\u001b[0;32m      6\u001b[0m     [\u001b[39m3\u001b[39m,\u001b[39m4\u001b[39m,\u001b[39m5\u001b[39m,\u001b[39m6\u001b[39m]\n\u001b[0;32m      7\u001b[0m ], dtype \u001b[39m=\u001b[39m torch\u001b[39m.\u001b[39mfloat32)\n\u001b[0;32m      8\u001b[0m weight_matrix\u001b[39m.\u001b[39mmatmul(in_features)\n",
      "\u001b[1;31mNameError\u001b[0m: name 'torch' is not defined"
     ]
    }
   ],
   "source": [
    "# 1. 张量的乘法\n",
    "in_features = torch.tensor([1,2,3,4], dtype=torch.float32)\n",
    "weight_matrix = torch.tensor([\n",
    "    [1,2,3,4],\n",
    "    [2,3,4,5],\n",
    "    [3,4,5,6]\n",
    "], dtype = torch.float32)\n",
    "weight_matrix.matmul(in_features)\n",
    "# 可将上述的权重矩阵看作是一个线性映射（函数），其实现过程与pytorch中的线性层一样"
   ]
  },
  {
   "cell_type": "code",
   "execution_count": 34,
   "metadata": {},
   "outputs": [
    {
     "data": {
      "text/plain": [
       "tensor([-1.4051, -1.1374,  1.6383], grad_fn=<AddBackward0>)"
      ]
     },
     "execution_count": 34,
     "metadata": {},
     "output_type": "execute_result"
    }
   ],
   "source": [
    "# 2. 线性层\n",
    "fc = nn.Linear(in_features=4, out_features=3)\n",
    "# pytorch 线性层通过将数字4和3传递给构造函数，以创建一个3x4的权重矩阵\n",
    "# 查看in_features张量\n",
    "fc(in_features)\n",
    "# 此时的结果与上述不同是因为这里的weight_matrix是由随机值来初始化的"
   ]
  },
  {
   "cell_type": "code",
   "execution_count": 35,
   "metadata": {},
   "outputs": [
    {
     "data": {
      "text/plain": [
       "tensor([30.4911, 39.7467, 49.7023], grad_fn=<AddBackward0>)"
      ]
     },
     "execution_count": 35,
     "metadata": {},
     "output_type": "execute_result"
    }
   ],
   "source": [
    "# 在parameter类中包装一个权重矩阵，以使得输出结果与1中一样\n",
    "fc = nn.Linear(in_features=4, out_features=3)\n",
    "fc.weight= nn.Parameter(weight_matrix)\n",
    "fc(in_features)\n",
    "# 此时的结果接近1中的结果却不精确，是因为由bias的存在"
   ]
  },
  {
   "cell_type": "code",
   "execution_count": 36,
   "metadata": {},
   "outputs": [
    {
     "data": {
      "text/plain": [
       "tensor([30., 40., 50.], grad_fn=<SqueezeBackward3>)"
      ]
     },
     "execution_count": 36,
     "metadata": {},
     "output_type": "execute_result"
    }
   ],
   "source": [
    "# 给bias传递一个false值，以得到精确的输出\n",
    "fc = nn.Linear(in_features=4, out_features=3, bias =False)\n",
    "fc.weight = nn.Parameter(weight_matrix)\n",
    "fc(in_features)"
   ]
  },
  {
   "cell_type": "markdown",
   "metadata": {},
   "source": [
    "* 线性转换的数学表示：\n",
    "* y = Ax + b\n",
    "* A: 权重矩阵张量\n",
    "* x: 输入张量\n",
    "* b: 权重张量\n",
    "* y: 输出张量"
   ]
  },
  {
   "attachments": {},
   "cell_type": "markdown",
   "metadata": {},
   "source": [
    "#### 3.7.2 特殊的调用\n",
    "\n",
    "<code>def __call__ <code>\n"
   ]
  },
  {
   "cell_type": "markdown",
   "metadata": {},
   "source": [
    "### 3.8 CNN前向方法的实现\n",
    "* 前向方法的实现将使用我们在构造函数中定义的所有层\n",
    "* 前向方法实际上是输入张量到预测的输出张量的映射\n",
    "#### 3.8.1 Input Layer\n",
    "* 输入层是由输入数据决定的\n",
    "* 输入层可以看做是恒等变换 f(x)=x\n",
    "* 输入层通常是隐式存在的"
   ]
  },
  {
   "cell_type": "code",
   "execution_count": 1,
   "metadata": {},
   "outputs": [],
   "source": [
    "import torch.nn as nn\n",
    "import torch.nn.functional as F\n",
    "class Network(nn.Module):\n",
    "    def __init__(self):\n",
    "        super(Network, self).__init__()\n",
    "        self.conv1 = nn.Conv2d(in_channels=1, out_channels=6, kernel_size=5)\n",
    "        self.conv2 = nn.Conv2d(in_channels=6, out_channels=12, kernel_size=5)\n",
    "        self.fc1 = nn.Linear(in_features=12*4*4, out_features=120)\n",
    "        self.fc2 = nn.Linear(in_features=120,out_features=60)\n",
    "        self.out = nn.Linear(in_features=60, out_features=10)\n",
    "    def forward(self,t):\n",
    "        # (1) input layer\n",
    "        t = t\n",
    "        # (2) hidden conv layer1\n",
    "        t = self.conv1(t)\n",
    "        t = F.relu(t)\n",
    "        t = F.max_pool2d(t, kernel_size=2, stride=2)\n",
    "        # (3) hidden conv layer2\n",
    "        t = self.conv2(t)\n",
    "        t = F.relu(t)\n",
    "        t = F.max_pool2d(t, kernel_size=2, stride=2)\n",
    "        # relu 和 max pooling 都没有权重(weight)；激活层(activation)和池化层(maxpool)的本质都是操作(operation)而非层；层与操作的不同之处在于，层有权重，操作没有\n",
    "        #（4）hidden linear layer2\n",
    "        t = t.reshape(-1, 12*4*4)  # 4*4 is the result done by maxpooling\n",
    "        t = self.fc1(t)\n",
    "        t = F.relu(t)\n",
    "        # (5) hidden linear layer2\n",
    "        t = self.fc2(t)\n",
    "        t = F.relu(t)\n",
    "        # (6) output layer\n",
    "        t = self.out(t)\n",
    "        # t= F.softmax(t, dim=1)  # 这里暂不使用softmax，在训练中使用交叉熵损失(cross entropy loss)可隐式的表示softmax\n",
    "        # 在隐藏层中，通常使用relu作为非线性激活函数\n",
    "        # 在输出层，有类别要预测时，使用 softmax()\n",
    "        "
   ]
  },
  {
   "cell_type": "markdown",
   "metadata": {},
   "source": [
    "### 3.9 单张图像的预测\n",
    "#### 3.9.1 前向传播(forward propagation)\n",
    "* 是将输入张量转换为输出张量的过程（即：神经网络是将输入张量映射到输出张量的函数）\n",
    "* 前向传播只是将输入张量传递给网络并从网络接收输出的过程的一个特殊名称\n",
    "#### 3.9.2 反向传播(back propagation)\n",
    "* 反向传播通常在前向传播后发生\n",
    "* 使用torch.set_grad_enabled(False)来关闭pytorch的梯度计算，这将阻止pytorch在我们的张量通过网络时构建一个计算图\n",
    "* 计算图通过跟踪张量在网络中传播的每一个计算，来跟踪网络的映射；然后在训练过程中使用这个图来计算导数，也就是损失函数的梯度；关闭并非强制的，但可以减少内存。"
   ]
  },
  {
   "cell_type": "code",
   "execution_count": 41,
   "metadata": {
    "scrolled": false
   },
   "outputs": [
    {
     "name": "stdout",
     "output_type": "stream",
     "text": [
      "torch.Size([1, 28, 28])\n",
      "torch.Size([1, 1, 28, 28])\n",
      "torch.Size([1, 10])\n",
      "tensor([2])\n",
      "9\n"
     ]
    }
   ],
   "source": [
    "# 单张图像预测\n",
    "import torch\n",
    "import torch.nn as nn\n",
    "import torch.nn.functional as F\n",
    "\n",
    "import torchvision\n",
    "import torchvision.transforms as transforms\n",
    "\n",
    "# 设置打印格式\n",
    "torch.set_printoptions(linewidth=120)\n",
    "\n",
    "# 一、数据准备\n",
    "train_set = torchvision.datasets.FashionMNIST(\n",
    "    root = './data/FashionMNIST'\n",
    "    ,train = True\n",
    "    ,download = True\n",
    "    , transform = transforms.Compose([\n",
    "        transforms.ToTensor()\n",
    "    ])\n",
    ")\n",
    "# 二、创建网络\n",
    "class Network(nn.Module):\n",
    "    def __init__(self):\n",
    "        super(Network, self).__init__()\n",
    "        self.conv1 = nn.Conv2d(in_channels = 1, out_channels=6, kernel_size=5)\n",
    "        self.conv2 = nn.Conv2d(in_channels = 6, out_channels=12, kernel_size=5)\n",
    "        self.fc1 = nn.Linear(in_features = 12*4*4, out_features=120)\n",
    "        self.fc2 = nn.Linear(in_features = 120, out_features = 60)\n",
    "        self.out = nn.Linear(in_features = 60, out_features=10)\n",
    "    def forward(self, t):\n",
    "        # （1）Input Layer\n",
    "        t = t\n",
    "        # (2) hidden conv1\n",
    "        t = self.conv1(t)\n",
    "        t = F.relu(t)\n",
    "        t = F.max_pool2d(t, kernel_size=2, stride=2)\n",
    "        # (3) hidden conv2 \n",
    "        t = self.conv2(t)\n",
    "        t = F.relu(t)\n",
    "        t = F.max_pool2d(t, kernel_size=2, stride=2)\n",
    "        # (4) hidden linear1\n",
    "        t = t.reshape(-1, 12*4*4)\n",
    "        t = self.fc1(t)\n",
    "        t = F.relu(t)\n",
    "        # (5) hidden linear2\n",
    "        t = self.fc2(t)\n",
    "        t = F.relu(t)\n",
    "        # (6) output\n",
    "        t = self.out(t)\n",
    "        return t\n",
    "        \n",
    "# 调用network实例\n",
    "torch.set_grad_enabled(False)    #关闭pytorch的梯度计算\n",
    "network = Network()\n",
    "sample = next(iter(train_set))\n",
    "image, label = sample\n",
    "print(image.shape)\n",
    "# 显示图像和标签\n",
    "#plt.imshow(image.squeeze(), cmap='gray')    # 将[1, 28, 28]->[28,28]\n",
    "#print('label:', label)\n",
    "# 如上我们得到的图像的形状为[1,28,28];而网络期望的张量是【batchsize,channels, height, width】\n",
    "# 需要使用unsqueeze方法来为其增加一个维度\n",
    "print(image.unsqueeze(0).shape)\n",
    "# 对单张图像进行预测\n",
    "pred = network(image.unsqueeze(0))\n",
    "print(pred.shape)\n",
    "print(pred.argmax(dim=1))\n",
    "print(label)"
   ]
  },
  {
   "cell_type": "code",
   "execution_count": 44,
   "metadata": {},
   "outputs": [
    {
     "name": "stdout",
     "output_type": "stream",
     "text": [
      "tensor([[0.1045, 0.0886, 0.1129, 0.0915, 0.1119, 0.0959, 0.0992, 0.0995, 0.0920, 0.1040]])\n",
      "tensor(1.)\n"
     ]
    }
   ],
   "source": [
    "# 要想将预测值用概率表示，可以使用softmax\n",
    "print(F.softmax(pred, dim=1))\n",
    "print(F.softmax(pred, dim=1).sum())"
   ]
  },
  {
   "cell_type": "markdown",
   "metadata": {},
   "source": [
    "### 3.10 单批次图像预测"
   ]
  },
  {
   "cell_type": "code",
   "execution_count": 3,
   "metadata": {},
   "outputs": [
    {
     "name": "stdout",
     "output_type": "stream",
     "text": [
      "2.1.0.dev20230618+cu121\n",
      "0.16.0.dev20230619+cu121\n"
     ]
    }
   ],
   "source": [
    "import torch\n",
    "import torch.nn\n",
    "import torch.nn.functional as F\n",
    "\n",
    "import torchvision\n",
    "import torchvision.transforms as transforms\n",
    "\n",
    "torch.set_printoptions(linewidth=120)\n",
    "\n",
    "print(torch.__version__)\n",
    "print(torchvision.__version__)"
   ]
  },
  {
   "cell_type": "code",
   "execution_count": 4,
   "metadata": {},
   "outputs": [],
   "source": [
    "# 数据准备\n",
    "train_set = torchvision.datasets.FashionMNIST(\n",
    "    root = './data/FashionMNIST'\n",
    "    ,train = True\n",
    "    ,download = True\n",
    "    ,transform = transforms.Compose([\n",
    "        transforms.ToTensor()\n",
    "    ]))"
   ]
  },
  {
   "cell_type": "code",
   "execution_count": 10,
   "metadata": {},
   "outputs": [],
   "source": [
    "# 网络创建\n",
    "class Network(nn.Module):\n",
    "    def __init__(self):\n",
    "        super(Network, self).__init__()\n",
    "        self.conv1 = nn.Conv2d(in_channels=1, out_channels=6, kernel_size=5)\n",
    "        self.conv2 = nn.Conv2d(in_channels=6, out_channels=12, kernel_size=5)\n",
    "        self.fc1 = nn.Linear(in_features=12*4*4, out_features=120)\n",
    "        self.fc2 = nn.Linear(in_features=120, out_features=60)\n",
    "        self.out = nn.Linear(in_features=60, out_features=10)\n",
    "    def forward(self, t):\n",
    "        #super(Network, self).__init__()\n",
    "        #(1)Input Layer\n",
    "        t = t\n",
    "        #(2)Conv1\n",
    "        t = F.relu(self.conv1(t))\n",
    "        t = F.max_pool2d(t, kernel_size=2, stride=2)\n",
    "        #(3)Conv2\n",
    "        t = F.relu(self.conv2(t))\n",
    "        t = F.max_pool2d(t, kernel_size=2, stride=2)\n",
    "        #(4)FC1\n",
    "        t = t.reshape(-1,12*4*4)\n",
    "        t = F.relu(self.fc1(t))\n",
    "        #(5)FC2\n",
    "        t = F.relu(self.fc2(t))\n",
    "        #(6)output\n",
    "        t = self.out(t)\n",
    "        return t"
   ]
  },
  {
   "cell_type": "code",
   "execution_count": 12,
   "metadata": {},
   "outputs": [
    {
     "name": "stdout",
     "output_type": "stream",
     "text": [
      "torch.Size([10, 1, 28, 28])\n",
      "torch.Size([10])\n"
     ]
    }
   ],
   "source": [
    "# 调用network instance\n",
    "torch.set_grad_enabled(False)\n",
    "network = Network()\n",
    "# 从dataloader中取出一批数据\n",
    "data_loader  = torch.utils.data.DataLoader(train_set, batch_size=10)\n",
    "batch = next(iter(data_loader))\n",
    "images, labels = batch\n",
    "print(images.shape)\n",
    "print(labels.shape)"
   ]
  },
  {
   "cell_type": "code",
   "execution_count": 13,
   "metadata": {},
   "outputs": [
    {
     "name": "stdout",
     "output_type": "stream",
     "text": [
      "torch.Size([10, 10])\n",
      "tensor([[ 0.0268,  0.0368, -0.0342, -0.1344, -0.0789,  0.1262,  0.0119, -0.0814, -0.0966, -0.0926],\n",
      "        [ 0.0294,  0.0379, -0.0391, -0.1361, -0.0752,  0.1301,  0.0061, -0.0819, -0.0952, -0.0887],\n",
      "        [ 0.0269,  0.0381, -0.0369, -0.1347, -0.0757,  0.1271,  0.0103, -0.0816, -0.0970, -0.0925],\n",
      "        [ 0.0259,  0.0388, -0.0365, -0.1344, -0.0747,  0.1267,  0.0091, -0.0822, -0.0965, -0.0935],\n",
      "        [ 0.0231,  0.0385, -0.0320, -0.1361, -0.0759,  0.1272,  0.0131, -0.0791, -0.0941, -0.0956],\n",
      "        [ 0.0294,  0.0417, -0.0382, -0.1380, -0.0759,  0.1260,  0.0041, -0.0815, -0.0987, -0.0918],\n",
      "        [ 0.0241,  0.0441, -0.0321, -0.1360, -0.0825,  0.1282,  0.0132, -0.0825, -0.0967, -0.0951],\n",
      "        [ 0.0290,  0.0403, -0.0375, -0.1356, -0.0783,  0.1267,  0.0085, -0.0836, -0.0978, -0.0955],\n",
      "        [ 0.0248,  0.0378, -0.0344, -0.1366, -0.0691,  0.1274,  0.0100, -0.0770, -0.0995, -0.0896],\n",
      "        [ 0.0264,  0.0365, -0.0420, -0.1353, -0.0729,  0.1302,  0.0102, -0.0857, -0.0962, -0.0865]])\n"
     ]
    }
   ],
   "source": [
    "pred = network(images)\n",
    "print(pred.shape)\n",
    "print(pred)"
   ]
  },
  {
   "cell_type": "code",
   "execution_count": 16,
   "metadata": {},
   "outputs": [
    {
     "name": "stdout",
     "output_type": "stream",
     "text": [
      "tensor([5, 5, 5, 5, 5, 5, 5, 5, 5, 5])\n",
      "tensor([9, 0, 0, 3, 0, 2, 7, 2, 5, 5])\n",
      "tensor(2)\n"
     ]
    }
   ],
   "source": [
    "print(pred.argmax(dim=1))\n",
    "print(labels)\n",
    "print(pred.argmax(dim=1).eq(labels).sum())  # using eq() to examine the result"
   ]
  },
  {
   "cell_type": "code",
   "execution_count": 15,
   "metadata": {},
   "outputs": [
    {
     "name": "stdout",
     "output_type": "stream",
     "text": [
      "tensor([[0.1057, 0.1068, 0.0995, 0.0900, 0.0951, 0.1168, 0.1041, 0.0949, 0.0934, 0.0938],\n",
      "        [0.1059, 0.1068, 0.0989, 0.0898, 0.0954, 0.1172, 0.1035, 0.0948, 0.0935, 0.0941],\n",
      "        [0.1057, 0.1069, 0.0992, 0.0899, 0.0954, 0.1168, 0.1040, 0.0948, 0.0934, 0.0938],\n",
      "        [0.1056, 0.1070, 0.0992, 0.0900, 0.0955, 0.1168, 0.1039, 0.0948, 0.0935, 0.0937],\n",
      "        [0.1053, 0.1069, 0.0996, 0.0898, 0.0953, 0.1168, 0.1042, 0.0950, 0.0936, 0.0935],\n",
      "        [0.1060, 0.1074, 0.0991, 0.0897, 0.0954, 0.1168, 0.1034, 0.0949, 0.0933, 0.0939],\n",
      "        [0.1054, 0.1075, 0.0996, 0.0898, 0.0947, 0.1170, 0.1043, 0.0947, 0.0934, 0.0936],\n",
      "        [0.1060, 0.1072, 0.0992, 0.0899, 0.0952, 0.1169, 0.1039, 0.0947, 0.0934, 0.0936],\n",
      "        [0.1054, 0.1068, 0.0993, 0.0897, 0.0959, 0.1168, 0.1038, 0.0952, 0.0931, 0.0940],\n",
      "        [0.1056, 0.1067, 0.0987, 0.0899, 0.0957, 0.1172, 0.1040, 0.0944, 0.0935, 0.0944]])\n",
      "tensor(10.)\n"
     ]
    }
   ],
   "source": [
    "print(F.softmax(pred, dim=1))\n",
    "print(F.softmax(pred,dim=1).sum())"
   ]
  },
  {
   "attachments": {},
   "cell_type": "markdown",
   "metadata": {},
   "source": [
    "### 3.11 输入张量在通过CNN的过程中的变化\n",
    "- defult padding of conv is 1, and maxpool is 2\n",
    "#### 3.11.1 CNN 输出特征图尺寸(正方形)\n",
    "* 假设输入特征的大小为n x n\n",
    "* 假设滤波器的大小为 f x f\n",
    "* 令padding为p，步长stride为s\n",
    "\n",
    "* 则输出特征图的大小为  **$\\displaystyle O = \\frac{( n - f + 2p )}{s }+1$**\n",
    "#### 3.11.2 CNN 输出特征图尺寸(非正方形)\n",
    "* 假设输入特征的大小为 $n_h \\times n_w$\n",
    "* 假设滤波器的大小为 $f_h \\times f_w$\n",
    "* 令padding为p，步长stride为s\n",
    "* 则输出特征图的高度为 $\\displaystyle O_h = \\frac{(n_h - f_h + 2_p)}{s }+1$\n",
    "\n",
    "* 输出特征图的宽度为 $\\displaystyle O_w = \\frac{(n_w - f_w + 2_p)}{s }+1$"
   ]
  },
  {
   "cell_type": "markdown",
   "metadata": {},
   "source": [
    "### 3.12 训练神经网络的步骤\n",
    "#### 3.12.1 训练神经网络的七个步骤\n",
    "* 从训练集中获取批量数据\n",
    "* 将批量数据传入网络\n",
    "* 计算损失(预测值与真实值之间的差)【需要loss function实现】\n",
    "* 计算损失函数的梯度  【需要back propagation实现】\n",
    "* 通过上一步计算的梯度来更新权重，进而减少损失【需要optimization algorithm实现】\n",
    "* 重复1-5步直到一个epoch执行完成\n",
    "* 重复1-6步直到所设定的epochs执行完成并得到满意的accuracy\n",
    "#### 3.12.2 单批次图像训练"
   ]
  },
  {
   "cell_type": "code",
   "execution_count": 17,
   "metadata": {},
   "outputs": [
    {
     "name": "stdout",
     "output_type": "stream",
     "text": [
      "2.1.0.dev20230618+cu121\n",
      "0.16.0.dev20230619+cu121\n"
     ]
    }
   ],
   "source": [
    "import torch\n",
    "import torch.nn as nn\n",
    "import torch.nn.functional as F\n",
    "import torch.optim as optim\n",
    "\n",
    "import torchvision\n",
    "import torchvision.transforms as transforms\n",
    "\n",
    "torch.set_printoptions(linewidth=120)\n",
    "torch.set_grad_enabled(True)  # 这里并不是必须的，默认情况下是打开的\n",
    "\n",
    "print(torch.__version__)\n",
    "print(torchvision.__version__)"
   ]
  },
  {
   "cell_type": "code",
   "execution_count": 18,
   "metadata": {},
   "outputs": [],
   "source": [
    "# 一、训练数据获取\n",
    "train_set = torchvision.datasets.FashionMNIST(\n",
    "    root = './data/FashionMNIST',\n",
    "    train = True,\n",
    "    download = True,\n",
    "    transform = transforms.Compose([\n",
    "        transforms.ToTensor()\n",
    "    ])\n",
    "    )"
   ]
  },
  {
   "cell_type": "code",
   "execution_count": 19,
   "metadata": {},
   "outputs": [],
   "source": [
    "# 二、创建网络\n",
    "class Network(nn.Module):\n",
    "    def __init__(self):\n",
    "        super(Network, self).__init__()\n",
    "        self.conv1 = nn.Conv2d(in_channels=1, out_channels=6, kernel_size=5)\n",
    "        self.conv2 = nn.Conv2d(in_channels=6, out_channels=12, kernel_size=5)\n",
    "        self.fc1 = nn.Linear(in_features=12*4*4, out_features=120)\n",
    "        self.fc2 = nn.Linear(in_features=120, out_features=60)\n",
    "        self.out = nn.Linear(in_features=60, out_features=10)\n",
    "    \n",
    "    def forward(self, t):\n",
    "        # Input Layer\n",
    "        t = t\n",
    "        # Conv1\n",
    "        t = F.relu(self.conv1(t))\n",
    "        t = F.max_pool2d(t, kernel_size=2, stride=2)\n",
    "        # Conv2\n",
    "        t = F.relu(self.conv2(t))\n",
    "        t = F.max_pool2d(t, kernel_size=2, stride=2)\n",
    "        # FC1\n",
    "        t = t.reshape(-1, 12*4*4)\n",
    "        t = F.relu(self.fc1(t))\n",
    "        # FC2\n",
    "        t = F.relu(self.fc2(t))\n",
    "        # Output\n",
    "        t = self.out(t)\n",
    "        return t"
   ]
  },
  {
   "cell_type": "code",
   "execution_count": 20,
   "metadata": {},
   "outputs": [
    {
     "data": {
      "text/plain": [
       "2.3057785034179688"
      ]
     },
     "execution_count": 20,
     "metadata": {},
     "output_type": "execute_result"
    }
   ],
   "source": [
    "# 调用network实例\n",
    "network = Network()\n",
    "train_loader = torch.utils.data.DataLoader(train_set, batch_size=100)\n",
    "batch = next(iter(train_loader))\n",
    "images, labels = batch\n",
    "# 计算损失\n",
    "preds = network(images)\n",
    "loss = F.cross_entropy(preds,labels)\n",
    "loss.item()   #获得损失的值"
   ]
  },
  {
   "cell_type": "code",
   "execution_count": 21,
   "metadata": {},
   "outputs": [],
   "source": [
    "# 计算损失的梯度\n",
    "loss.backward()      #反向传播"
   ]
  },
  {
   "cell_type": "code",
   "execution_count": 26,
   "metadata": {
    "scrolled": true
   },
   "outputs": [
    {
     "data": {
      "text/plain": [
       "2.285677909851074"
      ]
     },
     "execution_count": 26,
     "metadata": {},
     "output_type": "execute_result"
    }
   ],
   "source": [
    "# 更新权重\n",
    "optimizer = optim.Adam(network.parameters(), lr =0.01)\n",
    "loss.item()      # 显示当前loss值"
   ]
  },
  {
   "cell_type": "code",
   "execution_count": 23,
   "metadata": {},
   "outputs": [
    {
     "name": "stdout",
     "output_type": "stream",
     "text": [
      "9\n"
     ]
    },
    {
     "name": "stderr",
     "output_type": "stream",
     "text": [
      "C:\\Users\\User\\AppData\\Local\\Packages\\PythonSoftwareFoundation.Python.3.10_qbz5n2kfra8p0\\LocalCache\\local-packages\\Python310\\site-packages\\torch\\optim\\optimizer.py:243: UserWarning: 'has_cuda' is deprecated, please use 'torch.backends.cuda.is_built()'\n",
      "  if not is_compiling() and torch.has_cuda and torch.cuda.is_available():\n"
     ]
    }
   ],
   "source": [
    "# 定义函数用于计算预测正确的数目\n",
    "def get_num_correct(preds, labels):\n",
    "    return preds.argmax(dim=1).eq(labels).sum().item()\n",
    "print(get_num_correct(preds, labels))\n",
    "# 更新权重\n",
    "optimizer.step()"
   ]
  },
  {
   "cell_type": "code",
   "execution_count": 24,
   "metadata": {},
   "outputs": [
    {
     "name": "stdout",
     "output_type": "stream",
     "text": [
      "2.285677909851074\n",
      "11\n"
     ]
    }
   ],
   "source": [
    "preds = network(images)\n",
    "loss = F.cross_entropy(preds,labels)\n",
    "print(loss.item())\n",
    "print(get_num_correct(preds, labels))"
   ]
  },
  {
   "cell_type": "markdown",
   "metadata": {},
   "source": [
    "#### 3.12.3 单批次网络训练步骤总结\n",
    "* 从训练集中获取批量数据（lr为学习率:即朝着loss最小的方向走多远）"
   ]
  },
  {
   "cell_type": "code",
   "execution_count": 27,
   "metadata": {},
   "outputs": [],
   "source": [
    "network = Network()\n",
    "train_loader = torch.utils.data.DataLoader(train_set, batch_size=100)\n",
    "optimizer = optim.Adam(network.parameters(), lr = 0.01)\n",
    "batch = next(iter(train_loader))"
   ]
  },
  {
   "cell_type": "markdown",
   "metadata": {},
   "source": [
    "* 将批量数据传入network"
   ]
  },
  {
   "cell_type": "code",
   "execution_count": 28,
   "metadata": {},
   "outputs": [],
   "source": [
    "preds = network(images)"
   ]
  },
  {
   "cell_type": "markdown",
   "metadata": {},
   "source": [
    "* 计算loss"
   ]
  },
  {
   "cell_type": "code",
   "execution_count": 29,
   "metadata": {},
   "outputs": [],
   "source": [
    "loss = F.cross_entropy(preds, labels)"
   ]
  },
  {
   "cell_type": "markdown",
   "metadata": {},
   "source": [
    "* 计算loss的梯度"
   ]
  },
  {
   "cell_type": "code",
   "execution_count": 30,
   "metadata": {},
   "outputs": [],
   "source": [
    "loss.backward()"
   ]
  },
  {
   "cell_type": "markdown",
   "metadata": {},
   "source": [
    "* 使用计算出的梯度来更新权重，从而减少loss"
   ]
  },
  {
   "cell_type": "code",
   "execution_count": 31,
   "metadata": {},
   "outputs": [
    {
     "name": "stdout",
     "output_type": "stream",
     "text": [
      "loss1: 2.3016467094421387\n",
      "loss2: 2.2715275287628174\n"
     ]
    }
   ],
   "source": [
    "optimizer.step()\n",
    "print('loss1:',loss.item())  #更新前的loss\n",
    "preds = network(images)\n",
    "loss = F.cross_entropy(preds, labels)\n",
    "print('loss2:',loss.item())"
   ]
  },
  {
   "cell_type": "markdown",
   "metadata": {},
   "source": [
    "### 3.13 单周期(epoch)CNN的训练"
   ]
  },
  {
   "cell_type": "code",
   "execution_count": 34,
   "metadata": {},
   "outputs": [
    {
     "name": "stdout",
     "output_type": "stream",
     "text": [
      "2.1.0.dev20230618+cu121\n",
      "0.16.0.dev20230619+cu121\n"
     ]
    }
   ],
   "source": [
    "import torch\n",
    "import torch.nn as nn\n",
    "import torch.nn.functional as F\n",
    "import torch.optim as optim\n",
    "\n",
    "import torchvision\n",
    "import torchvision.transforms as transforms\n",
    "\n",
    "torch.set_printoptions(linewidth=120)\n",
    "torch.set_grad_enabled(True)\n",
    "\n",
    "print(torch.__version__)\n",
    "print(torchvision.__version__)"
   ]
  },
  {
   "cell_type": "code",
   "execution_count": 35,
   "metadata": {},
   "outputs": [],
   "source": [
    "# 数据准备\n",
    "train_set = torchvision.datasets.FashionMNIST(\n",
    "    root = './data/FashionMNIST',\n",
    "    train = True,\n",
    "    download = True,\n",
    "    transform = transforms.Compose([transforms.ToTensor()\n",
    "                                   ]))"
   ]
  },
  {
   "cell_type": "code",
   "execution_count": 36,
   "metadata": {},
   "outputs": [],
   "source": [
    "# 创建网络\n",
    "class Network(nn.Module):\n",
    "    def __init__(self):\n",
    "        super(Network,self).__init__()\n",
    "        self.conv1 = nn.Conv2d(in_channels=1, out_channels=6, kernel_size=5)\n",
    "        self.conv2 = nn.Conv2d(in_channels=6, out_channels=12, kernel_size=5)\n",
    "        self.fc1 = nn.Linear(in_features= 12*4*4, out_features=120)\n",
    "        self.fc2 = nn.Linear(in_features= 120, out_features=60)\n",
    "        self.out = nn.Linear(in_features=60, out_features=10)\n",
    "    \n",
    "    def forward(self, t):\n",
    "        t = t\n",
    "        t = F.relu(self.conv1(t))\n",
    "        t = F.max_pool2d(t, kernel_size =2, stride=2)\n",
    "        t = F.relu(self.conv2(t))\n",
    "        t = F.max_pool2d(t, kernel_size=2, stride=2)\n",
    "        t = t.reshape(-1, 12*4*4)\n",
    "        t = F.relu(self.fc1(t))\n",
    "        t = F.relu(self.fc2(t))\n",
    "        t = self.out(t)\n",
    "        return t\n",
    "        "
   ]
  },
  {
   "cell_type": "code",
   "execution_count": 37,
   "metadata": {},
   "outputs": [],
   "source": [
    "def get_num_correct(preds, labels):\n",
    "    return preds.argmax(dim=1).eq(labels).sum().item()"
   ]
  },
  {
   "cell_type": "code",
   "execution_count": 42,
   "metadata": {},
   "outputs": [
    {
     "name": "stderr",
     "output_type": "stream",
     "text": [
      "C:\\Users\\User\\AppData\\Local\\Packages\\PythonSoftwareFoundation.Python.3.10_qbz5n2kfra8p0\\LocalCache\\local-packages\\Python310\\site-packages\\torch\\optim\\optimizer.py:243: UserWarning: 'has_cuda' is deprecated, please use 'torch.backends.cuda.is_built()'\n",
      "  if not is_compiling() and torch.has_cuda and torch.cuda.is_available():\n"
     ]
    },
    {
     "name": "stdout",
     "output_type": "stream",
     "text": [
      "epoch: 0 loss: 342.91608732938766 accuracy: 0.78 total_correct: 46802\n",
      "epoch: 1 loss: 229.63746032118797 accuracy: 0.86 total_correct: 51432\n",
      "epoch: 2 loss: 206.83116368949413 accuracy: 0.87 total_correct: 52283\n",
      "epoch: 3 loss: 198.01371131837368 accuracy: 0.88 total_correct: 52660\n",
      "epoch: 4 loss: 191.74422531574965 accuracy: 0.88 total_correct: 52858\n"
     ]
    }
   ],
   "source": [
    "# Instance of creating network\n",
    "network = Network()\n",
    "train_loader = torch.utils.data.DataLoader(train_set, batch_size=100)  # use dataloader to get batch of data\n",
    "optimizer = optim.Adam(network.parameters(), lr=0.01, weight_decay=1e-5, betas=(0.8,0.999))  # set optimizer\n",
    "\n",
    "for epoch in range(5):\n",
    "    total_loss = 0\n",
    "    total_correct = 0\n",
    "    for batch in train_loader:   # Get batch\n",
    "        images, labels =batch\n",
    "        preds = network(images)  # Pass batch\n",
    "        loss = F.cross_entropy(preds, labels)\n",
    "        optimizer.zero_grad()    # turn optimizer's gradient to 0, avoid gradient accumulation\n",
    "        loss.backward()          # Calculate gradients\n",
    "        optimizer.step()         # Update weights\n",
    "        \n",
    "        total_loss += loss.item()\n",
    "        total_correct += get_num_correct(preds, labels)\n",
    "    print(\"epoch:\",epoch,\"loss:\",total_loss,'accuracy: %.2f'%(total_correct/len(train_set)),\"total_correct:\",total_correct)"
   ]
  },
  {
   "cell_type": "code",
   "execution_count": 44,
   "metadata": {},
   "outputs": [
    {
     "name": "stdout",
     "output_type": "stream",
     "text": [
      "accuracy: 0.88\n"
     ]
    },
    {
     "ename": "",
     "evalue": "",
     "output_type": "error",
     "traceback": [
      "\u001b[1;31mThe Kernel crashed while executing code in the the current cell or a previous cell. Please review the code in the cell(s) to identify a possible cause of the failure. Click <a href='https://aka.ms/vscodeJupyterKernelCrash'>here</a> for more info. View Jupyter <a href='command:jupyter.viewOutput'>log</a> for further details."
     ]
    }
   ],
   "source": [
    "accuracy = total_correct/len(train_set)\n",
    "print(\"accuracy: %.2f\" %(accuracy))"
   ]
  },
  {
   "cell_type": "markdown",
   "metadata": {},
   "source": [
    "* 每个周期的迭代数 = 数据总数/batchsize（当改变batchsize时，也就是改变了更新权重的次数，也就是朝损失函数最小的防线前进的步数）\n",
    "* accuracy = total_correct/len(train_set)\n",
    "* 梯度：告诉我们应该走哪条路能更快的到达loss最小"
   ]
  },
  {
   "cell_type": "markdown",
   "metadata": {},
   "source": [
    "### 3.14 神经网络的混淆矩阵\n",
    "* 创建混淆矩阵的两个条件:一个预测的张量和一个有相应真值或标签的张量"
   ]
  },
  {
   "cell_type": "code",
   "execution_count": 10,
   "metadata": {},
   "outputs": [
    {
     "data": {
      "text/plain": [
       "60000"
      ]
     },
     "execution_count": 10,
     "metadata": {},
     "output_type": "execute_result"
    }
   ],
   "source": [
    "# 在3.13训练后网络的基础上进行分析\n",
    "len(train_set)"
   ]
  },
  {
   "cell_type": "code",
   "execution_count": 11,
   "metadata": {},
   "outputs": [
    {
     "data": {
      "text/plain": [
       "60000"
      ]
     },
     "execution_count": 11,
     "metadata": {},
     "output_type": "execute_result"
    }
   ],
   "source": [
    "len(train_set.targets)  # label"
   ]
  },
  {
   "cell_type": "markdown",
   "metadata": {},
   "source": [
    "对整个训练集进行预测"
   ]
  },
  {
   "cell_type": "code",
   "execution_count": 27,
   "metadata": {},
   "outputs": [],
   "source": [
    "@torch.no_grad()  # turn gradient tracking off\n",
    "def get_all_preds(model,loader):\n",
    "    all_preds = torch.tensor([])\n",
    "    for batch in loader:\n",
    "        images,labels = batch\n",
    "        preds = model(images)\n",
    "        all_preds = torch.cat((all_preds,preds), dim=0)\n",
    "    return all_preds"
   ]
  },
  {
   "cell_type": "code",
   "execution_count": 28,
   "metadata": {},
   "outputs": [],
   "source": [
    "prediction_loader = torch.utils.data.DataLoader(train_set, batch_size=10000)\n",
    "train_preds = get_all_preds(network, prediction_loader)"
   ]
  },
  {
   "cell_type": "code",
   "execution_count": 30,
   "metadata": {},
   "outputs": [
    {
     "data": {
      "text/plain": [
       "torch.Size([60000, 10])"
      ]
     },
     "execution_count": 30,
     "metadata": {},
     "output_type": "execute_result"
    }
   ],
   "source": [
    "train_preds.shape"
   ]
  },
  {
   "cell_type": "code",
   "execution_count": 31,
   "metadata": {},
   "outputs": [
    {
     "name": "stdout",
     "output_type": "stream",
     "text": [
      "True\n"
     ]
    }
   ],
   "source": [
    "print(train_preds.requires_grad)   #查看训练预测张量的梯度属性"
   ]
  },
  {
   "cell_type": "code",
   "execution_count": 32,
   "metadata": {},
   "outputs": [],
   "source": [
    "train_preds.grad\n",
    "# 即使训练中关于梯度张量的跟踪已打开，但在没有进行反向传播的情况下依旧不会有梯度的值"
   ]
  },
  {
   "cell_type": "code",
   "execution_count": 33,
   "metadata": {},
   "outputs": [
    {
     "data": {
      "text/plain": [
       "<CatBackward at 0x1d964546ba8>"
      ]
     },
     "execution_count": 33,
     "metadata": {},
     "output_type": "execute_result"
    }
   ],
   "source": [
    "train_preds.grad_fn   # 由于train_preds是经过函数产生的，故具有该属性"
   ]
  },
  {
   "cell_type": "code",
   "execution_count": 34,
   "metadata": {},
   "outputs": [],
   "source": [
    "# 局部关闭梯度跟踪以减小内存损耗,也可使用torch.set.grad.enabled(False)进行全局关闭\n",
    "with torch.no_grad():\n",
    "    prediction_loader = torch.utils.data.DataLoader(train_set, batch_size=1000)\n",
    "    train_preds = get_all_preds(network, prediction_loader)"
   ]
  },
  {
   "cell_type": "code",
   "execution_count": 35,
   "metadata": {},
   "outputs": [
    {
     "data": {
      "text/plain": [
       "60000"
      ]
     },
     "execution_count": 35,
     "metadata": {},
     "output_type": "execute_result"
    }
   ],
   "source": [
    "len(train_preds)"
   ]
  },
  {
   "cell_type": "code",
   "execution_count": 36,
   "metadata": {},
   "outputs": [
    {
     "name": "stdout",
     "output_type": "stream",
     "text": [
      "False\n"
     ]
    }
   ],
   "source": [
    "print(train_preds.requires_grad)"
   ]
  },
  {
   "cell_type": "code",
   "execution_count": 37,
   "metadata": {},
   "outputs": [],
   "source": [
    "train_preds.grad"
   ]
  },
  {
   "cell_type": "code",
   "execution_count": 38,
   "metadata": {},
   "outputs": [],
   "source": [
    "train_preds.grad_fn"
   ]
  },
  {
   "cell_type": "code",
   "execution_count": 39,
   "metadata": {},
   "outputs": [
    {
     "name": "stdout",
     "output_type": "stream",
     "text": [
      "total_correct: 51988\n",
      "accuracy: 0.8664666666666667\n"
     ]
    }
   ],
   "source": [
    "preds_correct = get_num_correct(train_preds, train_set.targets)\n",
    "print(\"total_correct:\",preds_correct)\n",
    "print(\"accuracy:\",preds_correct/len(train_set))"
   ]
  },
  {
   "cell_type": "markdown",
   "metadata": {},
   "source": [
    "绘制混淆矩阵(方法1：)"
   ]
  },
  {
   "cell_type": "code",
   "execution_count": 42,
   "metadata": {},
   "outputs": [
    {
     "name": "stdout",
     "output_type": "stream",
     "text": [
      "tensor([9, 0, 0,  ..., 3, 0, 5])\n",
      "torch.Size([60000])\n"
     ]
    }
   ],
   "source": [
    "print(train_set.targets)\n",
    "print(train_set.targets.shape)"
   ]
  },
  {
   "cell_type": "code",
   "execution_count": 43,
   "metadata": {},
   "outputs": [
    {
     "name": "stdout",
     "output_type": "stream",
     "text": [
      "tensor([9, 0, 0,  ..., 3, 0, 5])\n",
      "torch.Size([60000])\n"
     ]
    }
   ],
   "source": [
    "print(train_preds.argmax(dim=1))\n",
    "print(train_preds.argmax(dim=1).shape)"
   ]
  },
  {
   "cell_type": "code",
   "execution_count": 46,
   "metadata": {},
   "outputs": [
    {
     "data": {
      "text/plain": [
       "tensor([[9, 9],\n",
       "        [0, 0],\n",
       "        [0, 0],\n",
       "        ...,\n",
       "        [3, 3],\n",
       "        [0, 0],\n",
       "        [5, 5]])"
      ]
     },
     "execution_count": 46,
     "metadata": {},
     "output_type": "execute_result"
    }
   ],
   "source": [
    "stack = torch.stack((train_set.targets, train_preds.argmax(dim=1)),dim=1)\n",
    "stack"
   ]
  },
  {
   "cell_type": "code",
   "execution_count": 47,
   "metadata": {},
   "outputs": [
    {
     "data": {
      "text/plain": [
       "[9, 9]"
      ]
     },
     "execution_count": 47,
     "metadata": {},
     "output_type": "execute_result"
    }
   ],
   "source": [
    "# 使用tolist方法可访问【target，pred】对\n",
    "stack[0].tolist()"
   ]
  },
  {
   "cell_type": "code",
   "execution_count": 48,
   "metadata": {},
   "outputs": [],
   "source": [
    "# 创建一个混淆矩阵(初始)\n",
    "cmt = torch.zeros(10,10,dtype=torch.int32)"
   ]
  },
  {
   "cell_type": "code",
   "execution_count": 50,
   "metadata": {},
   "outputs": [],
   "source": [
    "# 遍历所有的对，并计算每个组合发生的次数\n",
    "for p in stack:\n",
    "    tl,pl = p.tolist()\n",
    "    cmt[tl,pl] += 1"
   ]
  },
  {
   "cell_type": "code",
   "execution_count": 51,
   "metadata": {},
   "outputs": [
    {
     "data": {
      "text/plain": [
       "tensor([[5661,    5,   77,   73,    8,    2,  117,    1,   56,    0],\n",
       "        [  64, 5774,    5,  128,    5,    1,   20,    0,    3,    0],\n",
       "        [ 111,    1, 4692,   82,  768,    1,  299,    0,   46,    0],\n",
       "        [ 546,   20,   20, 5216,  138,    0,   56,    0,    4,    0],\n",
       "        [  21,    6,  364,  297, 4830,    0,  419,    5,   58,    0],\n",
       "        [  27,    6,    8,    1,    0, 5665,    2,  213,    8,   70],\n",
       "        [1871,    9,  612,  127,  498,    0, 2792,    0,   91,    0],\n",
       "        [   0,    0,    0,    0,    0,   49,    0, 5846,    3,  102],\n",
       "        [  40,    1,   23,   20,   13,   15,   25,   15, 5846,    2],\n",
       "        [   1,    0,    1,    0,    0,   20,    0,  307,    5, 5666]], dtype=torch.int32)"
      ]
     },
     "execution_count": 51,
     "metadata": {},
     "output_type": "execute_result"
    }
   ],
   "source": [
    "cmt"
   ]
  },
  {
   "cell_type": "code",
   "execution_count": 57,
   "metadata": {},
   "outputs": [
    {
     "name": "stdout",
     "output_type": "stream",
     "text": [
      "Confusion matrix, without normalization\n",
      "[[5661    5   77   73    8    2  117    1   56    0]\n",
      " [  64 5774    5  128    5    1   20    0    3    0]\n",
      " [ 111    1 4692   82  768    1  299    0   46    0]\n",
      " [ 546   20   20 5216  138    0   56    0    4    0]\n",
      " [  21    6  364  297 4830    0  419    5   58    0]\n",
      " [  27    6    8    1    0 5665    2  213    8   70]\n",
      " [1871    9  612  127  498    0 2792    0   91    0]\n",
      " [   0    0    0    0    0   49    0 5846    3  102]\n",
      " [  40    1   23   20   13   15   25   15 5846    2]\n",
      " [   1    0    1    0    0   20    0  307    5 5666]]\n"
     ]
    },
    {
     "data": {
      "image/png": "[encoded data removed]",
      "text/plain": [
       "<Figure size 720x720 with 2 Axes>"
      ]
     },
     "metadata": {},
     "output_type": "display_data"
    }
   ],
   "source": [
    "import matplotlib.pyplot as plt\n",
    "from plotcm import plot_confusion_matrix\n",
    "names = (\n",
    "    'T-shirt/top',\n",
    "    'Trouser',\n",
    "    'Pullover',\n",
    "    'Dress',\n",
    "    'Coat',\n",
    "    'Sandal',\n",
    "    'Shirt',\n",
    "    'Sneaker',\n",
    "    'Bag',\n",
    "    'Ankle boot')\n",
    "plt.figure(figsize=(10,10))\n",
    "\n",
    "plot_confusion_matrix(cmt, names)"
   ]
  },
  {
   "cell_type": "markdown",
   "metadata": {},
   "source": [
    "绘制混淆矩阵(方法2：)"
   ]
  },
  {
   "cell_type": "code",
   "execution_count": 53,
   "metadata": {},
   "outputs": [
    {
     "data": {
      "text/plain": [
       "array([[5661,    5,   77,   73,    8,    2,  117,    1,   56,    0],\n",
       "       [  64, 5774,    5,  128,    5,    1,   20,    0,    3,    0],\n",
       "       [ 111,    1, 4692,   82,  768,    1,  299,    0,   46,    0],\n",
       "       [ 546,   20,   20, 5216,  138,    0,   56,    0,    4,    0],\n",
       "       [  21,    6,  364,  297, 4830,    0,  419,    5,   58,    0],\n",
       "       [  27,    6,    8,    1,    0, 5665,    2,  213,    8,   70],\n",
       "       [1871,    9,  612,  127,  498,    0, 2792,    0,   91,    0],\n",
       "       [   0,    0,    0,    0,    0,   49,    0, 5846,    3,  102],\n",
       "       [  40,    1,   23,   20,   13,   15,   25,   15, 5846,    2],\n",
       "       [   1,    0,    1,    0,    0,   20,    0,  307,    5, 5666]],\n",
       "      dtype=int64)"
      ]
     },
     "execution_count": 53,
     "metadata": {},
     "output_type": "execute_result"
    }
   ],
   "source": [
    "import matplotlib.pyplot as plt\n",
    "from sklearn.metrics import confusion_matrix\n",
    "from plotcm import plot_confusion_matrix  # plotcm.py文件位于当前文件resources中\n",
    "\n",
    "cm = confusion_matrix(train_set.targets, train_preds.argmax(dim=1))\n",
    "cm"
   ]
  },
  {
   "cell_type": "code",
   "execution_count": 54,
   "metadata": {},
   "outputs": [
    {
     "name": "stdout",
     "output_type": "stream",
     "text": [
      "Confusion matrix, without normalization\n",
      "[[5661    5   77   73    8    2  117    1   56    0]\n",
      " [  64 5774    5  128    5    1   20    0    3    0]\n",
      " [ 111    1 4692   82  768    1  299    0   46    0]\n",
      " [ 546   20   20 5216  138    0   56    0    4    0]\n",
      " [  21    6  364  297 4830    0  419    5   58    0]\n",
      " [  27    6    8    1    0 5665    2  213    8   70]\n",
      " [1871    9  612  127  498    0 2792    0   91    0]\n",
      " [   0    0    0    0    0   49    0 5846    3  102]\n",
      " [  40    1   23   20   13   15   25   15 5846    2]\n",
      " [   1    0    1    0    0   20    0  307    5 5666]]\n"
     ]
    },
    {
     "data": {
      "image/png": "[encoded data removed]",
      "text/plain": [
       "<Figure size 720x720 with 2 Axes>"
      ]
     },
     "metadata": {},
     "output_type": "display_data"
    }
   ],
   "source": [
    "names = (\n",
    "    'T-shirt/top',\n",
    "    'Trouser',\n",
    "    'Pullover',\n",
    "    'Dress',\n",
    "    'Coat',\n",
    "    'Sandal',\n",
    "    'Shirt',\n",
    "    'Sneaker',\n",
    "    'Bag',\n",
    "    'Ankle boot')\n",
    "plt.figure(figsize=(10,10))\n",
    "plot_confusion_matrix(cm, names)"
   ]
  },
  {
   "cell_type": "markdown",
   "metadata": {},
   "source": [
    "### 3.15 concatenating和stacking的区分\n",
    "* concatenating是在一个现有的轴上连接一系列的张量\n",
    "* stacking是在一个新的轴上连接一系列的张量(即，我们在所有的张量中创建一个新轴)"
   ]
  },
  {
   "cell_type": "code",
   "execution_count": 126,
   "metadata": {},
   "outputs": [
    {
     "name": "stdout",
     "output_type": "stream",
     "text": [
      "tensor([[1, 1, 1]])\n",
      "torch.Size([1, 3])\n",
      "tensor([[1],\n",
      "        [1],\n",
      "        [1]])\n",
      "torch.Size([3, 1])\n"
     ]
    }
   ],
   "source": [
    "# 给张量创建新轴\n",
    "import torch\n",
    "t = torch.tensor([1,1,1]) \n",
    "print(t.unsqueeze(dim=0))\n",
    "print(t.unsqueeze(dim=0).shape)\n",
    "print(t.unsqueeze(dim=1))\n",
    "print(t.unsqueeze(dim=1).shape)"
   ]
  },
  {
   "cell_type": "code",
   "execution_count": 132,
   "metadata": {},
   "outputs": [
    {
     "name": "stdout",
     "output_type": "stream",
     "text": [
      "tensor([1, 1, 1, 2, 2, 2, 3, 3, 3])\n",
      "tensor([[1, 1, 1],\n",
      "        [2, 2, 2],\n",
      "        [3, 3, 3]])\n",
      "tensor([[1, 1, 1],\n",
      "        [2, 2, 2],\n",
      "        [3, 3, 3]])\n"
     ]
    }
   ],
   "source": [
    "# 使用Pytorch实现concatenating和stacking\n",
    "t1 = torch.tensor([1,1,1])\n",
    "t2 = torch.tensor([2,2,2])\n",
    "t3 = torch.tensor([3,3,3])\n",
    "# Concatenating\n",
    "t_cat = torch.cat((t1,t2,t3), dim=0)\n",
    "print(t_cat)\n",
    "\n",
    "# Stacking\n",
    "t_stack = torch.stack((t1, t2, t3), dim=0)\n",
    "print(t_stack)\n",
    "\n",
    "# Staking相当于先给张量添加一个新轴然后在concat\n",
    "t_stack1 = torch.cat((t1.unsqueeze(0),t2.unsqueeze(0),t3.unsqueeze(0)), dim =0)\n",
    "print(t_stack1)"
   ]
  },
  {
   "cell_type": "code",
   "execution_count": 131,
   "metadata": {},
   "outputs": [
    {
     "name": "stderr",
     "output_type": "stream",
     "text": [
      "C:\\Users\\wanyu\\Anaconda3\\lib\\site-packages\\h5py\\__init__.py:36: FutureWarning: Conversion of the second argument of issubdtype from `float` to `np.floating` is deprecated. In future, it will be treated as `np.float64 == np.dtype(float).type`.\n",
      "  from ._conv import register_converters as _register_converters\n"
     ]
    },
    {
     "name": "stdout",
     "output_type": "stream",
     "text": [
      "Tensor(\"concat:0\", shape=(9,), dtype=int64)\n",
      "Tensor(\"concat_1:0\", shape=(9,), dtype=int64)\n"
     ]
    }
   ],
   "source": [
    "# 使用Tensorflow实现concatenating和stacking\n",
    "import tensorflow as tf\n",
    "# Concatenating\n",
    "t_cat = tf.concat((t1, t2, t3), axis =0)\n",
    "print(t_cat)\n",
    "\n",
    "#Stacking\n",
    "t_stack = tf.concat((t1, t2, t3), axis =0)\n",
    "print(t_stack)"
   ]
  },
  {
   "cell_type": "code",
   "execution_count": 133,
   "metadata": {},
   "outputs": [
    {
     "name": "stdout",
     "output_type": "stream",
     "text": [
      "[1 1 1 2 2 2 3 3 3]\n",
      "[[1 1 1]\n",
      " [2 2 2]\n",
      " [3 3 3]]\n"
     ]
    }
   ],
   "source": [
    "# 使用Numpy实现concatenating和stacking\n",
    "import numpy as np\n",
    "t1 = np.array([1,1,1])\n",
    "t2 = np.array([2,2,2])\n",
    "t3 = np.array([3,3,3])\n",
    "# Concatenating\n",
    "t_cat = np.concatenate((t1,t2,t3), axis=0)\n",
    "print(t_cat)\n",
    "# Stacking\n",
    "t_stack = np.stack((t1,t2,t3), axis =0)\n",
    "print(t_stack)"
   ]
  }
 ],
 "metadata": {
  "kernelspec": {
   "display_name": "Python 3",
   "language": "python",
   "name": "python3"
  },
  "language_info": {
   "codemirror_mode": {
    "name": "ipython",
    "version": 3
   },
   "file_extension": ".py",
   "mimetype": "text/x-python",
   "name": "python",
   "nbconvert_exporter": "python",
   "pygments_lexer": "ipython3",
   "version": "3.10.11"
  }
 },
 "nbformat": 4,
 "nbformat_minor": 2
}
