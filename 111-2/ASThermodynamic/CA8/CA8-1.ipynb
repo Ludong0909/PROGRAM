{
 "cells": [
  {
   "attachments": {},
   "cell_type": "markdown",
   "metadata": {},
   "source": [
    "## CA8-1 for Atmospheric Thermodynamic"
   ]
  },
  {
   "attachments": {},
   "cell_type": "markdown",
   "metadata": {},
   "source": [
    "### Import packages, open file, set parameters, and calculate variables"
   ]
  },
  {
   "cell_type": "code",
   "execution_count": 8,
   "metadata": {},
   "outputs": [],
   "source": [
    "import numpy as np\n",
    "import Mog\n",
    "import matplotlib.pyplot as plt\n",
    "\n",
    "H,P,T,qv = np.loadtxt(fname='CA8-1_data.txt',dtype=float,usecols=(0,1,2,3),skiprows=1,unpack=True)\n",
    "\n",
    "# Turn T into Kelvin\n",
    "T = T+273.15\n",
    "\n",
    "# Find location of Tropopause\n",
    "Tmin = np.amin(T)\n",
    "\n",
    "# Set perameters\n",
    "Q = 0.12  # sensible heat flux [mK/s]\n",
    "R = 3e-5  # latent heat flux [(kg*m)/(kg*s)]\n",
    "Rd = Mog.Rd  # [J/K*kg]\n",
    "Rv = Mog.Rv  # [J/K*kg]\n",
    "epsilon = Rd/Rv\n",
    "g0 = Mog.g0  # [m/s^2]\n",
    "Cp = Mog.Cp  # [J/K*kg]\n",
    "Lv = Mog.Lv  # [J/kg]\n",
    "A = 2.53*10**9  # hPa\n",
    "B = 5.42*10**3  # K\n",
    "\n",
    "# Compute variables\n",
    "es = Mog.SaturationWaterVaporPressure(T)\n",
    "qvs = Mog.SpecificHumidity(P, es)\n",
    "theta = Mog.PotentialTemp(T,P)\n",
    "hm = Mog.MoistStaticEnergy(T, H, qv)\n",
    "hms = Mog.MoistStaticEnergy(T, H, qvs)\n",
    "Sd = Mog.DryStaticEnergy(T, H)"
   ]
  },
  {
   "cell_type": "code",
   "execution_count": 9,
   "metadata": {},
   "outputs": [
    {
     "name": "stderr",
     "output_type": "stream",
     "text": [
      "C:\\Users\\User\\AppData\\Local\\Temp\\ipykernel_12340\\1516573803.py:26: RuntimeWarning: invalid value encountered in double_scalars\n",
      "  qvmix[t] = (qvs + Rt)/Hmix[t]\n"
     ]
    },
    {
     "name": "stdout",
     "output_type": "stream",
     "text": [
      "8.0\n",
      "Top of PBL @12hr =  873.941 m\n"
     ]
    }
   ],
   "source": [
    "# for computation\n",
    "thetam = theta\n",
    "qvv = qv\n",
    "\n",
    "# Variables to store results\n",
    "Hmix = np.zeros(43201)\n",
    "thetamix = np.zeros(43201)\n",
    "qvmix = np.zeros(43201)\n",
    "data_index = np.zeros(43201)  # index of time of evolution\n",
    "\n",
    "# Compute evolution\n",
    "for t in range(43200 + 1):\n",
    "    Qt = Q * t\n",
    "    Rt = R * t\n",
    "\n",
    "    # initial\n",
    "    thetas = thetam[0] * H[0]  # integral of theta*hm\n",
    "    thetamm = thetam[0]  # for record\n",
    "    qvs = qvv[0] * H[0]  # integral of qv*hm\n",
    "\n",
    "    for i in range(6787):\n",
    "\n",
    "        if (thetamm * H[i] - thetas >= Qt):\n",
    "            Hmix[t] = H[i]\n",
    "            thetamix[t] = thetamm\n",
    "            qvmix[t] = (qvs + Rt)/Hmix[t]\n",
    "            data_index[t] = i\n",
    "            break\n",
    "        \n",
    "        else:\n",
    "            if (thetam[i+1] < thetamm):\n",
    "                thetamm = thetamm\n",
    "            else:\n",
    "                thetamm = thetam[i+1]\n",
    "        \n",
    "        thetas += (thetam[i] + thetam[i+1]) * (H[i+1] - H[i]) * 0.5\n",
    "        qvs += (qvv[i] + qvv[i+1])*(H[i+1] - H[i]) * 0.5\n",
    "\n",
    "# Top of PBL @12hr\n",
    "print('Top of PBL @12hr = ', H[int(data_index[-1])], 'm')"
   ]
  }
 ],
 "metadata": {
  "kernelspec": {
   "display_name": "Python 3",
   "language": "python",
   "name": "python3"
  },
  "language_info": {
   "codemirror_mode": {
    "name": "ipython",
    "version": 3
   },
   "file_extension": ".py",
   "mimetype": "text/x-python",
   "name": "python",
   "nbconvert_exporter": "python",
   "pygments_lexer": "ipython3",
   "version": "3.10.11"
  },
  "orig_nbformat": 4
 },
 "nbformat": 4,
 "nbformat_minor": 2
}
