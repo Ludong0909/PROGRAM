{
 "cells": [
  {
   "attachments": {},
   "cell_type": "markdown",
   "metadata": {},
   "source": [
    "### Hw10 for Numerical Analysis"
   ]
  },
  {
   "cell_type": "code",
   "execution_count": 1,
   "metadata": {},
   "outputs": [],
   "source": [
    "import numpy as np\n",
    "import matplotlib.pyplot as plt"
   ]
  },
  {
   "attachments": {},
   "cell_type": "markdown",
   "metadata": {},
   "source": [
    "### Q1 Evaluate Definite Integral"
   ]
  },
  {
   "attachments": {},
   "cell_type": "markdown",
   "metadata": {},
   "source": [
    "#### Define Trapezodial method and Simpson's 1/3 method"
   ]
  },
  {
   "cell_type": "code",
   "execution_count": 2,
   "metadata": {},
   "outputs": [],
   "source": [
    "# Define target function\n",
    "f = lambda x: 8 + 4 * np.cos(x)\n",
    "\n",
    "\n",
    "def trapezoidal_method(a, b, n, func):\n",
    "    h = ((b - a) / n)\n",
    "    sum_val = 0\n",
    "    for i in range(1, n):\n",
    "        x = a + i * h\n",
    "        sum_val += func(x)\n",
    "    integral = h / 2 * (func(a) + func(b) + 2 * sum_val)\n",
    "    return integral\n",
    "\n",
    "\n",
    "def simpsons_one_third(a, b, n, func):\n",
    "    h = ((b - a) / n)\n",
    "    sum_val1 = 0\n",
    "    sum_val2 = 0\n",
    "\n",
    "    for i in range(1, n):\n",
    "        x = a + i * h\n",
    "        if i % 2 == 0:\n",
    "            sum_val2 += func(x)\n",
    "        else:\n",
    "            sum_val1 += func(x)\n",
    "\n",
    "    integral = h / 3 * (func(a) + func(b) + 4 * sum_val1 + 2 * sum_val2)\n",
    "    return integral\n",
    "\n"
   ]
  },
  {
   "attachments": {},
   "cell_type": "markdown",
   "metadata": {},
   "source": [
    "#### Calculate result and relative error"
   ]
  },
  {
   "cell_type": "code",
   "execution_count": 3,
   "metadata": {},
   "outputs": [
    {
     "name": "stdout",
     "output_type": "stream",
     "text": [
      "Relative Error (Trapz Method): 0.003110928597977159\n",
      "Relative Error (Trapezoidal Method): 0.003110928597977159\n",
      "Relative Error (Simpson's 1/3 Method): 3.249594671676706e-05\n"
     ]
    }
   ],
   "source": [
    "true_value = 4 * np.pi + 4\n",
    "\n",
    "a = 0\n",
    "b = np.pi / 2\n",
    "n = 4\n",
    "\n",
    "x = np.linspace(a, b, n + 1)\n",
    "y = f(x)\n",
    "result_trapz = np.trapz(y, x)\n",
    "\n",
    "result_trapezoidal = trapezoidal_method(a, b, n, f)\n",
    "result_simpsons = simpsons_one_third(a, b, n, f)\n",
    "\n",
    "relative_error_trapz= abs((true_value - result_trapz) / true_value)\n",
    "relative_error_trapezoidal = abs((true_value - result_trapezoidal) / true_value)\n",
    "relative_error_simpsons = abs((true_value - result_simpsons) / true_value)\n",
    "\n",
    "print(\"Relative Error (Trapz Method):\", relative_error_trapz)\n",
    "print(\"Relative Error (Trapezoidal Method):\", relative_error_trapezoidal)\n",
    "print(\"Relative Error (Simpson's 1/3 Method):\", relative_error_simpsons)\n"
   ]
  },
  {
   "attachments": {},
   "cell_type": "markdown",
   "metadata": {},
   "source": [
    "### Q2 Evaluate Improper Integral"
   ]
  },
  {
   "cell_type": "code",
   "execution_count": 5,
   "metadata": {},
   "outputs": [
    {
     "name": "stdout",
     "output_type": "stream",
     "text": [
      "0.7837315284527475 1 2\n",
      "1.1064910605842515 2 4\n",
      "1.325690024545395 3 8\n",
      "1.4464227889221672 4 16\n",
      "1.5083750706052501 5 32\n",
      "1.5395561810281728 6 64\n",
      "1.5551725588006187 7 128\n",
      "1.5629839808240726 8 256\n",
      "1.5668900960805607 9 512\n",
      "1.568843204238625 10 1024\n",
      "1.5698197646336107 11 2048\n",
      "1.5703080456205882 12 4096\n",
      "1.5705521862127547 13 8192\n",
      "1.570674256521152 14 16384\n",
      "1.5707352916769104 15 32768\n",
      "1.5707658092549523 16 65536\n"
     ]
    }
   ],
   "source": [
    "f2 = lambda x :1/(x**2+1)\n",
    "\n",
    "# innitialize\n",
    "iteration  = 0\n",
    "upper0 = 1\n",
    "result0 = 1\n",
    "\n",
    "while True:\n",
    "    n = int(upper0 // 0.25) +1\n",
    "    result = trapezoidal_method(0, upper0, n, f2)\n",
    "    relative_error = abs(result - result0) / result0\n",
    "\n",
    "    if relative_error < 1e-5:\n",
    "        break\n",
    "\n",
    "    result0 = result\n",
    "    upper0 *= 2\n",
    "    iteration += 1\n",
    "\n",
    "    print(result, iteration, upper0)\n"
   ]
  }
 ],
 "metadata": {
  "kernelspec": {
   "display_name": "Python 3",
   "language": "python",
   "name": "python3"
  },
  "language_info": {
   "codemirror_mode": {
    "name": "ipython",
    "version": 3
   },
   "file_extension": ".py",
   "mimetype": "text/x-python",
   "name": "python",
   "nbconvert_exporter": "python",
   "pygments_lexer": "ipython3",
   "version": "3.10.11"
  },
  "orig_nbformat": 4
 },
 "nbformat": 4,
 "nbformat_minor": 2
}
