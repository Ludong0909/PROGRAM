{
 "cells": [
  {
   "attachments": {},
   "cell_type": "markdown",
   "metadata": {},
   "source": [
    "<font face='Times New Roman' size=4>\n",
    "<span style=\"line-height: 0.5;\">\n",
    "\n",
    "## Numerical Analysis Final Project\n",
    "#### Using Cholesky decompesition to solve linear equations systems\n",
    "##### Matrix rank 10000\n",
    "---\n",
    "<font face=\"標楷體\">大氣一 林之然</font> (B11209005)\n",
    "\n",
    "<font face=\"標楷體\">大氣一 蔡知諺</font> (B11209014)"
   ]
  },
  {
   "attachments": {},
   "cell_type": "markdown",
   "metadata": {},
   "source": [
    "<font face='Times New Roman' size=4>\n",
    "<span style=\"line-height: 1.2;\"> \n",
    "\n",
    "###  <span style=\"color:red;\">***Warning***</span> \n",
    ">\n",
    "If you run this Jupyter Notebook, it may take up to 1000 hours to run through all the cells.  \n",
    "(Basically, consturcting a positive definite matrix in rank 10000 takes up to 30 min.)"
   ]
  },
  {
   "attachments": {},
   "cell_type": "markdown",
   "metadata": {},
   "source": [
    "<font face='Times New Roman' size=4>\n",
    "<span style=\"line-height: 1.25;\">\n",
    "\n",
    "### Instruction to this Jupyter Notebook:\n",
    "1. Assign the kernel where you normally run Python.  \n",
    "\n",
    "2. Click the [<font face=\"標楷體\">全部執行</font>] button or Cell > Run All to execute the entire code. \n",
    "\n",
    "3. Look through the codes and discussions.  \n",
    "\n",
    "4. If the discussion text is not displayed properly (e.g. the line height is too short for read), please find the attached .html file."
   ]
  },
  {
   "cell_type": "code",
   "execution_count": 1,
   "metadata": {},
   "outputs": [],
   "source": [
    "import numpy as np\n",
    "import matplotlib.pyplot as plt\n",
    "import NAFunc as cheers"
   ]
  },
  {
   "cell_type": "code",
   "execution_count": 2,
   "metadata": {},
   "outputs": [],
   "source": [
    "# Generate a larger positive definite matrix\n",
    "larger_size = 30000\n",
    "larger_matrix = np.random.rand(larger_size, larger_size)\n",
    "larger_matrix = np.dot(larger_matrix, larger_matrix.T)\n",
    "\n",
    "# Extract a submatrix with the desired rank\n",
    "desired_rank = 10000\n",
    "A10000 = larger_matrix[:desired_rank, :desired_rank]\n",
    "\n",
    "# Check if the submatrix is positive definite\n",
    "eigenvalues = np.linalg.eigvals(A10000)\n",
    "is_positive_definite = np.all(eigenvalues > 0)\n",
    "\n",
    "print(\"Submatrix with Rank\", desired_rank)\n",
    "print(A10000)\n",
    "print(\"Is positive definite:\", is_positive_definite)\n",
    "AX10000 = np.random.random(desired_rank)"
   ]
  },
  {
   "cell_type": "code",
   "execution_count": null,
   "metadata": {},
   "outputs": [
    {
     "ename": "NameError",
     "evalue": "name 'np' is not defined",
     "output_type": "error",
     "traceback": [
      "\u001b[0;31m---------------------------------------------------------------------------\u001b[0m",
      "\u001b[0;31mNameError\u001b[0m                                 Traceback (most recent call last)",
      "Cell \u001b[0;32mIn[1], line 2\u001b[0m\n\u001b[1;32m      1\u001b[0m \u001b[39m#%%time\u001b[39;00m\n\u001b[0;32m----> 2\u001b[0m L10000_numpy \u001b[39m=\u001b[39m np\u001b[39m.\u001b[39mlinalg\u001b[39m.\u001b[39mcholesky(A10000)\n\u001b[1;32m      3\u001b[0m X10000C_numpy \u001b[39m=\u001b[39m cheers\u001b[39m.\u001b[39mBackwardSub(L10000_numpy\u001b[39m.\u001b[39mT,np\u001b[39m.\u001b[39mdot(np\u001b[39m.\u001b[39mlinalg\u001b[39m.\u001b[39minv(L10000_numpy),AX10000))\n",
      "\u001b[0;31mNameError\u001b[0m: name 'np' is not defined"
     ]
    }
   ],
   "source": [
    "#%%time\n",
    "L10000_numpy = np.linalg.cholesky(A10000)\n",
    "X10000C_numpy = cheers.BackwardSub(L10000_numpy.T,np.dot(np.linalg.inv(L10000_numpy),AX10000))"
   ]
  },
  {
   "cell_type": "code",
   "execution_count": null,
   "metadata": {},
   "outputs": [
    {
     "name": "stdout",
     "output_type": "stream",
     "text": [
      "CPU times: user 6min 54s, sys: 3.48 s, total: 6min 57s\n",
      "Wall time: 6min 59s\n"
     ]
    }
   ],
   "source": [
    "#%%time\n",
    "X10000G_numpy = cheers.GaussElimination(A10000,AX10000)"
   ]
  },
  {
   "cell_type": "code",
   "execution_count": null,
   "metadata": {},
   "outputs": [
    {
     "name": "stdout",
     "output_type": "stream",
     "text": [
      "[3.92616712e-17 1.82417016e-17 1.42979161e-17 ... 1.96511644e-18\n",
      " 5.32072216e-17 6.93982564e-17]\n"
     ]
    }
   ],
   "source": [
    "print(X10000C_numpy-X10000G_numpy)"
   ]
  },
  {
   "cell_type": "code",
   "execution_count": null,
   "metadata": {},
   "outputs": [],
   "source": [
    "def Cholesky_Decomposition(matrix):\n",
    "    n = len(matrix)\n",
    "    L = [[0.0] * n for _ in range(n)]\n",
    "\n",
    "    for i in range(n):\n",
    "        for j in range(i + 1):\n",
    "            if i == j:\n",
    "                L[i][j] = (matrix[i][i] - sum(L[i][k] ** 2 for k in range(j))) ** 0.5\n",
    "            else:\n",
    "                L[i][j] = (matrix[i][j] - sum(L[i][k] * L[j][k] for k in range(j))) / L[j][j]\n",
    "\n",
    "    return L"
   ]
  },
  {
   "cell_type": "code",
   "execution_count": null,
   "metadata": {},
   "outputs": [],
   "source": [
    "def Transpose(A):\n",
    "    return [[row[i] for row in A] for i in range(len(A[0]))]"
   ]
  },
  {
   "cell_type": "code",
   "execution_count": null,
   "metadata": {},
   "outputs": [
    {
     "ename": "KeyboardInterrupt",
     "evalue": "",
     "output_type": "error",
     "traceback": [
      "\u001b[0;31m---------------------------------------------------------------------------\u001b[0m",
      "\u001b[0;31mKeyboardInterrupt\u001b[0m                         Traceback (most recent call last)",
      "File \u001b[0;32m<timed exec>:1\u001b[0m\n",
      "Cell \u001b[0;32mIn[27], line 10\u001b[0m, in \u001b[0;36mcholesky_decomposition_gpt\u001b[0;34m(matrix)\u001b[0m\n\u001b[1;32m      8\u001b[0m             L[i][j] \u001b[39m=\u001b[39m (matrix[i][i] \u001b[39m-\u001b[39m \u001b[39msum\u001b[39m(L[i][k] \u001b[39m*\u001b[39m\u001b[39m*\u001b[39m \u001b[39m2\u001b[39m \u001b[39mfor\u001b[39;00m k \u001b[39min\u001b[39;00m \u001b[39mrange\u001b[39m(j))) \u001b[39m*\u001b[39m\u001b[39m*\u001b[39m \u001b[39m0.5\u001b[39m\n\u001b[1;32m      9\u001b[0m         \u001b[39melse\u001b[39;00m:\n\u001b[0;32m---> 10\u001b[0m             L[i][j] \u001b[39m=\u001b[39m (matrix[i][j] \u001b[39m-\u001b[39m \u001b[39msum\u001b[39;49m(L[i][k] \u001b[39m*\u001b[39;49m L[j][k] \u001b[39mfor\u001b[39;49;00m k \u001b[39min\u001b[39;49;00m \u001b[39mrange\u001b[39;49m(j))) \u001b[39m/\u001b[39m L[j][j]\n\u001b[1;32m     12\u001b[0m \u001b[39mreturn\u001b[39;00m L\n",
      "Cell \u001b[0;32mIn[27], line 10\u001b[0m, in \u001b[0;36m<genexpr>\u001b[0;34m(.0)\u001b[0m\n\u001b[1;32m      8\u001b[0m             L[i][j] \u001b[39m=\u001b[39m (matrix[i][i] \u001b[39m-\u001b[39m \u001b[39msum\u001b[39m(L[i][k] \u001b[39m*\u001b[39m\u001b[39m*\u001b[39m \u001b[39m2\u001b[39m \u001b[39mfor\u001b[39;00m k \u001b[39min\u001b[39;00m \u001b[39mrange\u001b[39m(j))) \u001b[39m*\u001b[39m\u001b[39m*\u001b[39m \u001b[39m0.5\u001b[39m\n\u001b[1;32m      9\u001b[0m         \u001b[39melse\u001b[39;00m:\n\u001b[0;32m---> 10\u001b[0m             L[i][j] \u001b[39m=\u001b[39m (matrix[i][j] \u001b[39m-\u001b[39m \u001b[39msum\u001b[39m(L[i][k] \u001b[39m*\u001b[39m L[j][k] \u001b[39mfor\u001b[39;00m k \u001b[39min\u001b[39;00m \u001b[39mrange\u001b[39m(j))) \u001b[39m/\u001b[39m L[j][j]\n\u001b[1;32m     12\u001b[0m \u001b[39mreturn\u001b[39;00m L\n",
      "\u001b[0;31mKeyboardInterrupt\u001b[0m: "
     ]
    }
   ],
   "source": [
    "%%time\n",
    "L2C = Cholesky_Decomposition(A2)\n",
    "X2C = cheers.BackwardSub(Transpose(L2C),np.dot(np.linalg.inv(L2C),AX2))"
   ]
  },
  {
   "cell_type": "code",
   "execution_count": null,
   "metadata": {},
   "outputs": [],
   "source": [
    "def Gaussian_Elimination(A, b):\n",
    "    n = len(A)\n",
    "    for i in range(n):\n",
    "        max_row = i\n",
    "        for j in range(i + 1, n):\n",
    "            if abs(A[j][i]) > abs(A[max_row][i]):\n",
    "                max_row = j\n",
    "        A[i], A[max_row] = A[max_row], A[i]\n",
    "        b[i], b[max_row] = b[max_row], b[i]\n",
    "\n",
    "        for j in range(i + 1, n):\n",
    "            factor = A[j][i] / A[i][i]\n",
    "            b[j] -= factor * b[i]\n",
    "            for k in range(i, n):\n",
    "                A[j][k] -= factor * A[i][k]\n",
    "\n",
    "    x = [0.0] * n\n",
    "    for i in range(n - 1, -1, -1):\n",
    "        x[i] = (b[i] - sum(A[i][j] * x[j] for j in range(i + 1, n))) / A[i][i]\n",
    "\n",
    "    return x"
   ]
  },
  {
   "cell_type": "code",
   "execution_count": null,
   "metadata": {},
   "outputs": [],
   "source": [
    "%%time\n",
    "X2G = Gaussian_Elimination(A2, AX2)"
   ]
  }
 ],
 "metadata": {
  "kernelspec": {
   "display_name": "base",
   "language": "python",
   "name": "python3"
  },
  "language_info": {
   "codemirror_mode": {
    "name": "ipython",
    "version": 3
   },
   "file_extension": ".py",
   "mimetype": "text/x-python",
   "name": "python",
   "nbconvert_exporter": "python",
   "pygments_lexer": "ipython3",
   "version": "3.10.8"
  },
  "orig_nbformat": 4
 },
 "nbformat": 4,
 "nbformat_minor": 2
}
