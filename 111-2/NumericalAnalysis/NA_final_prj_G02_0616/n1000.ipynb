{
 "cells": [
  {
   "attachments": {},
   "cell_type": "markdown",
   "metadata": {},
   "source": [
    "<font face='Times New Roman' size=4>\n",
    "<span style=\"line-height: 0.5;\">\n",
    "\n",
    "## Numerical Analysis Final Project\n",
    "#### Using Cholesky decompesition to solve linear equations systems\n",
    "##### Matrix rank 1000\n",
    "---\n",
    "林之然(B11209005)\n",
    "\n",
    "蔡知諺(B11209014)"
   ]
  },
  {
   "attachments": {},
   "cell_type": "markdown",
   "metadata": {},
   "source": [
    "<font face='Times New Roman' size=4>\n",
    "<span style=\"line-height: 1.25;\">\n",
    "\n",
    "### Instruction to this Jupyter Notebook:\n",
    "1. Assign the kernel where you normally run Python.  \n",
    "\n",
    "2. Click the [<font face=\"標楷體\">全部執行</font>] button or Cell > Run All to execute the entire code. \n",
    "\n",
    "3. Look through the codes and discussions.  "
   ]
  },
  {
   "cell_type": "code",
   "execution_count": 7,
   "metadata": {},
   "outputs": [],
   "source": [
    "import numpy as np\n",
    "import NAFunc as cheers"
   ]
  },
  {
   "attachments": {},
   "cell_type": "markdown",
   "metadata": {},
   "source": [
    "##### Generate random postive definite matrix and array in different size"
   ]
  },
  {
   "cell_type": "code",
   "execution_count": 8,
   "metadata": {},
   "outputs": [
    {
     "name": "stdout",
     "output_type": "stream",
     "text": [
      "Submatrix with Rank 10\n",
      "Is positive definite: True\n"
     ]
    }
   ],
   "source": [
    "# Generate a larger positive definite matrix\n",
    "larger_size = 30\n",
    "LA10 = np.random.rand(larger_size, larger_size)\n",
    "LA10 = np.dot(LA10, LA10.T)\n",
    "\n",
    "# Extract a submatrix with the desired rank\n",
    "desired_rank = 10\n",
    "A10 = LA10[:desired_rank, :desired_rank]\n",
    "\n",
    "# Check if the submatrix is positive definite\n",
    "eigenvalues = np.linalg.eigvals(A10)\n",
    "is_positive_definite = np.all(eigenvalues > 0)\n",
    "\n",
    "print(\"Submatrix with Rank\", desired_rank)\n",
    "print(\"Is positive definite:\", is_positive_definite)\n",
    "AX10 = np.random.random(desired_rank)"
   ]
  },
  {
   "cell_type": "code",
   "execution_count": 9,
   "metadata": {},
   "outputs": [
    {
     "name": "stdout",
     "output_type": "stream",
     "text": [
      "Submatrix with Rank 100\n",
      "Is positive definite: True\n"
     ]
    }
   ],
   "source": [
    "# Generate a larger positive definite matrix\n",
    "larger_size = 300\n",
    "LA100 = np.random.rand(larger_size, larger_size)\n",
    "LA100 = np.dot(LA100, LA100.T)\n",
    "\n",
    "# Extract a submatrix with the desired rank\n",
    "desired_rank = 100\n",
    "A100 = LA100[:desired_rank, :desired_rank]\n",
    "\n",
    "# Check if the submatrix is positive definite\n",
    "eigenvalues = np.linalg.eigvals(A100)\n",
    "is_positive_definite = np.all(eigenvalues > 0)\n",
    "\n",
    "print(\"Submatrix with Rank\", desired_rank)\n",
    "print(\"Is positive definite:\", is_positive_definite)\n",
    "AX100 = np.random.random(desired_rank)"
   ]
  },
  {
   "cell_type": "code",
   "execution_count": 10,
   "metadata": {},
   "outputs": [
    {
     "name": "stdout",
     "output_type": "stream",
     "text": [
      "Submatrix with Rank 1000\n",
      "Is positive definite: True\n"
     ]
    }
   ],
   "source": [
    "# Generate a larger positive definite matrix\n",
    "larger_size = 3000\n",
    "LA1000 = np.random.rand(larger_size, larger_size)\n",
    "LA1000 = np.dot(LA1000, LA1000.T)\n",
    "\n",
    "# Extract a submatrix with the desired rank\n",
    "desired_rank = 1000\n",
    "A1000 = LA1000[:desired_rank, :desired_rank]\n",
    "\n",
    "# Check if the submatrix is positive definite\n",
    "eigenvalues = np.linalg.eigvals(A1000)\n",
    "is_positive_definite = np.all(eigenvalues > 0)\n",
    "\n",
    "print(\"Submatrix with Rank\", desired_rank)\n",
    "print(\"Is positive definite:\", is_positive_definite)\n",
    "AX1000 = np.random.random(desired_rank)"
   ]
  },
  {
   "attachments": {},
   "cell_type": "markdown",
   "metadata": {},
   "source": [
    "##### Define Cholesky decomposition algorism and other necessary function"
   ]
  },
  {
   "cell_type": "code",
   "execution_count": 11,
   "metadata": {},
   "outputs": [],
   "source": [
    "def Cholesky_Decomposition(matrix):\n",
    "    n = len(matrix)\n",
    "    L = [[0.0] * n for _ in range(n)]\n",
    "\n",
    "    for i in range(n):\n",
    "        for j in range(i + 1):\n",
    "            if i == j:\n",
    "                L[i][j] = (matrix[i][i] - sum(L[i][k] ** 2 for k in range(j))) ** 0.5\n",
    "            else:\n",
    "                L[i][j] = (matrix[i][j] - sum(L[i][k] * L[j][k] for k in range(j))) / L[j][j]\n",
    "\n",
    "    return L"
   ]
  },
  {
   "cell_type": "code",
   "execution_count": 12,
   "metadata": {},
   "outputs": [],
   "source": [
    "def Transpose(A):\n",
    "    return [[row[i] for row in A] for i in range(len(A[0]))]\n",
    "\n",
    "\n",
    "def Inverse_Cholesky(L):\n",
    "    \"\"\"\n",
    "    Calculate the inverse of a lower triangular matrix L from Cholesky decomposition.\n",
    "\n",
    "    Args:\n",
    "        L (list of lists): The lower triangular matrix L from Cholesky decomposition.\n",
    "\n",
    "    Returns:\n",
    "        list of lists: The inverse matrix of L.\n",
    "    \"\"\"\n",
    "    n = len(L)\n",
    "    inverse = [[0.0] * n for _ in range(n)]\n",
    "\n",
    "    for i in range(n):\n",
    "        inverse[i][i] = 1.0 / L[i][i]\n",
    "\n",
    "        for j in range(i - 1, -1, -1):\n",
    "            s = 0.0\n",
    "            for k in range(j + 1, i + 1):\n",
    "                s += L[i][k] * inverse[k][j]\n",
    "            inverse[i][j] = -s / L[j][j]\n",
    "\n",
    "    return inverse\n",
    "\n",
    "\n",
    "def Backward_Substitution(U, b):\n",
    "    \"\"\"\n",
    "    Perform backward substitution to solve a system of equations with an upper triangular matrix.\n",
    "\n",
    "    Args:\n",
    "        U (list of lists): The upper triangular matrix.\n",
    "        b (list): The column vector representing the right-hand side of the equations.\n",
    "\n",
    "    Returns:\n",
    "        list: The solution vector x.\n",
    "    \"\"\"\n",
    "    n = len(U)\n",
    "    x = [0.0] * n\n",
    "\n",
    "    for i in range(n - 1, -1, -1):\n",
    "        x[i] = b[i] / U[i][i]\n",
    "        for j in range(i - 1, -1, -1):\n",
    "            b[j] -= U[j][i] * x[i]\n",
    "\n",
    "    return x\n",
    "\n",
    "\n",
    "def Lower_Triangular_Matrix_Vector_Multiply(matrix, vector):\n",
    "    \"\"\"\n",
    "    Perform matrix-vector multiplication for a lower triangular matrix.\n",
    "\n",
    "    Args:\n",
    "        matrix (list of lists): The lower triangular matrix.\n",
    "        vector (list): The input vector.\n",
    "\n",
    "    Returns:\n",
    "        list: The resulting vector.\n",
    "    \"\"\"\n",
    "    # Get the dimensions of the matrix\n",
    "    num_rows = len(matrix)\n",
    "    num_cols = len(matrix[0])\n",
    "\n",
    "    # Check if the dimensions match for multiplication\n",
    "    if num_cols != len(vector):\n",
    "        raise ValueError(\"Matrix and vector dimensions do not match for multiplication\")\n",
    "\n",
    "    # Initialize the resulting vector with zeros\n",
    "    result = [0.0] * num_rows\n",
    "\n",
    "    # Perform matrix-vector multiplication\n",
    "    for i in range(num_rows):\n",
    "        for j in range(i + 1):\n",
    "            result[i] += matrix[i][j] * vector[j]\n",
    "\n",
    "    return result"
   ]
  },
  {
   "cell_type": "code",
   "execution_count": 13,
   "metadata": {},
   "outputs": [],
   "source": [
    "def Gaussian_Elimination(A, b):\n",
    "    n = len(A)\n",
    "    for i in range(n):\n",
    "\n",
    "        # Pivoting\n",
    "        max_row = i\n",
    "        for j in range(i + 1, n):\n",
    "            if abs(A[j][i]) > abs(A[max_row][i]):\n",
    "                max_row = j\n",
    "        A[i], A[max_row] = A[max_row], A[i]\n",
    "        b[i], b[max_row] = b[max_row], b[i]\n",
    "\n",
    "        # Forward\n",
    "        for j in range(i + 1, n):\n",
    "            factor = A[j][i] / A[i][i]\n",
    "            b[j] -= factor * b[i]\n",
    "            for k in range(i, n):\n",
    "                A[j][k] -= factor * A[i][k]\n",
    "\n",
    "    # Backward Sub\n",
    "    x = [0.0] * n\n",
    "    for i in range(n - 1, -1, -1):\n",
    "        x[i] = (b[i] - sum(A[i][j] * x[j] for j in range(i + 1, n))) / A[i][i]\n",
    "\n",
    "    return x"
   ]
  },
  {
   "attachments": {},
   "cell_type": "markdown",
   "metadata": {},
   "source": [
    "##### Independently Run the Cell to Estimate Operation Time"
   ]
  },
  {
   "cell_type": "code",
   "execution_count": 14,
   "metadata": {},
   "outputs": [
    {
     "name": "stdout",
     "output_type": "stream",
     "text": [
      "131 µs ± 708 ns per loop (mean ± std. dev. of 7 runs, 10,000 loops each)\n"
     ]
    }
   ],
   "source": [
    "%%timeit  \n",
    "# Estimate time: CPU times: 40-60 µs\n",
    "\n",
    "L10 = Cholesky_Decomposition(A10)\n",
    "X10C = Backward_Substitution(Transpose(L10),Lower_Triangular_Matrix_Vector_Multiply(Inverse_Cholesky(L10),AX10))"
   ]
  },
  {
   "cell_type": "code",
   "execution_count": 15,
   "metadata": {},
   "outputs": [
    {
     "name": "stdout",
     "output_type": "stream",
     "text": [
      "232 µs ± 1.24 µs per loop (mean ± std. dev. of 7 runs, 1,000 loops each)\n"
     ]
    }
   ],
   "source": [
    "%%timeit  \n",
    "# Estimate time: CPU times: 120-160 µs\n",
    "\n",
    "X10G = Gaussian_Elimination(A10, AX10)"
   ]
  },
  {
   "cell_type": "code",
   "execution_count": 16,
   "metadata": {},
   "outputs": [
    {
     "name": "stdout",
     "output_type": "stream",
     "text": [
      "52.1 ms ± 237 µs per loop (mean ± std. dev. of 7 runs, 10 loops each)\n"
     ]
    }
   ],
   "source": [
    "%%timeit  \n",
    "# Estimate time: CPU times: 40-60 ms\n",
    "\n",
    "L100 = Cholesky_Decomposition(A100)\n",
    "X100C = Backward_Substitution(Transpose(L100),Lower_Triangular_Matrix_Vector_Multiply(Inverse_Cholesky(L100),AX100))"
   ]
  },
  {
   "cell_type": "code",
   "execution_count": 17,
   "metadata": {},
   "outputs": [
    {
     "name": "stdout",
     "output_type": "stream",
     "text": [
      "153 ms ± 518 µs per loop (mean ± std. dev. of 7 runs, 10 loops each)\n"
     ]
    }
   ],
   "source": [
    "%%timeit  \n",
    "# Estimate time: CPU times: 120-160 ms\n",
    "\n",
    "X100G = Gaussian_Elimination(A100, AX100)"
   ]
  },
  {
   "cell_type": "code",
   "execution_count": 18,
   "metadata": {},
   "outputs": [
    {
     "name": "stdout",
     "output_type": "stream",
     "text": [
      "CPU times: user 48.6 s, sys: 256 ms, total: 48.8 s\n",
      "Wall time: 48.9 s\n"
     ]
    }
   ],
   "source": [
    "%%time  \n",
    "# Estimate time: CPU times: 40-60 s\n",
    "\n",
    "L1000 = Cholesky_Decomposition(A1000)\n",
    "#X1C = cheers.BackwardSub(Transpose(L1),np.dot(inverse_cholesky(L1),AX1))\n",
    "X1000C = Backward_Substitution(Transpose(L1000),Lower_Triangular_Matrix_Vector_Multiply(Inverse_Cholesky(L1000),AX1000))"
   ]
  },
  {
   "cell_type": "code",
   "execution_count": 19,
   "metadata": {},
   "outputs": [
    {
     "name": "stdout",
     "output_type": "stream",
     "text": [
      "CPU times: user 2min 28s, sys: 582 ms, total: 2min 29s\n",
      "Wall time: 2min 29s\n"
     ]
    }
   ],
   "source": [
    "%%time  \n",
    "# Estimate time: CPU times: 120-160 s\n",
    "\n",
    "X1000G = Gaussian_Elimination(A1000, AX1000)"
   ]
  }
 ],
 "metadata": {
  "kernelspec": {
   "display_name": "base",
   "language": "python",
   "name": "python3"
  },
  "language_info": {
   "codemirror_mode": {
    "name": "ipython",
    "version": 3
   },
   "file_extension": ".py",
   "mimetype": "text/x-python",
   "name": "python",
   "nbconvert_exporter": "python",
   "pygments_lexer": "ipython3",
   "version": "3.10.8"
  },
  "orig_nbformat": 4
 },
 "nbformat": 4,
 "nbformat_minor": 2
}
