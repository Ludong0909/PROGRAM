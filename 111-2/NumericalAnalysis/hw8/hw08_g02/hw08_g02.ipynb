{
 "cells": [
  {
   "attachments": {},
   "cell_type": "markdown",
   "metadata": {},
   "source": [
    "## Numerical Analysis Homework 8\n",
    "---\n",
    "Student 林之然(B11209005) and 蔡知諺(B11209014), both in department 大氣系 and grade 1."
   ]
  },
  {
   "attachments": {},
   "cell_type": "markdown",
   "metadata": {},
   "source": [
    "### Instruction to this Jupyter Notebook:\n",
    "1. Assign the kernel where you normally run Python.  \n",
    "\n",
    "2. Click the [全部執行] button or Cell > Run All to execute the entire code. \n",
    "\n",
    "3. Look through the codes and discussions.  \n",
    "\n",
    "4. If the discussion text is not displayed properly (e.g. the line height is too short for read), please find the attached .html file.\n",
    "\n",
    "5. Because we're using %%timeit magic command to check the time, it takes more time (about 15 seconds) for the program to complete."
   ]
  },
  {
   "cell_type": "code",
   "execution_count": 1,
   "metadata": {},
   "outputs": [],
   "source": [
    "import numpy as np\n",
    "import matplotlib.pyplot as plt"
   ]
  },
  {
   "cell_type": "code",
   "execution_count": 2,
   "metadata": {},
   "outputs": [],
   "source": [
    "def func_ODE(x,y):\n",
    "    return 2*y-x**2-x\n",
    "h = 0.6\n",
    "X = np.linspace(1,19,int((19-1)/h+1),dtype=np.float64)\n",
    "Y = 3*np.ones(int((19-1)/h+1),dtype=np.float64)"
   ]
  },
  {
   "attachments": {},
   "cell_type": "markdown",
   "metadata": {},
   "source": [
    "#### 1.1 Euler's method"
   ]
  },
  {
   "attachments": {},
   "cell_type": "markdown",
   "metadata": {},
   "source": [
    "Here we write a function Solve_Euler(x0,y0,func_ODE,h) to be the one iteration it need to run the whole calculation of solving the 1st order ODE with Euler's method. "
   ]
  },
  {
   "cell_type": "code",
   "execution_count": 3,
   "metadata": {},
   "outputs": [],
   "source": [
    "def Solve_Euler(x0,y0,func_ODE,h):\n",
    "    def slope(x,y,func_ODE):\n",
    "        return func_ODE(x,y)\n",
    "    x1 = x0 + h\n",
    "    y1 = y0 + slope(x0,y0,func_ODE)*h\n",
    "    \n",
    "    return x1,y1"
   ]
  },
  {
   "attachments": {},
   "cell_type": "markdown",
   "metadata": {},
   "source": [
    "The reason to only write one iteration step instead of the entire loop is for the capability to assign the datatype of the array (although we just copy the X and Y assigned before)."
   ]
  },
  {
   "cell_type": "code",
   "execution_count": 4,
   "metadata": {},
   "outputs": [],
   "source": [
    "X11 = X.copy()\n",
    "Y11 = Y.copy()"
   ]
  },
  {
   "attachments": {},
   "cell_type": "markdown",
   "metadata": {},
   "source": [
    "Then the loop is presented here:"
   ]
  },
  {
   "cell_type": "code",
   "execution_count": 5,
   "metadata": {},
   "outputs": [
    {
     "name": "stdout",
     "output_type": "stream",
     "text": [
      "15.7 µs ± 131 ns per loop (mean ± std. dev. of 7 runs, 100,000 loops each)\n"
     ]
    }
   ],
   "source": [
    "%%timeit\n",
    "for i in range(1,int((19-1)/h+1)):\n",
    "    X11[i],Y11[i] = Solve_Euler(X11[i-1],Y11[i-1],func_ODE,h)\n",
    "    #print(X[i],Y[i])"
   ]
  },
  {
   "attachments": {},
   "cell_type": "markdown",
   "metadata": {},
   "source": [
    "We calculate the mean operation time using IPython inbuild magic command %%timeit. This we be used in 1.7."
   ]
  },
  {
   "attachments": {},
   "cell_type": "markdown",
   "metadata": {},
   "source": [
    "#### 1.2 Modified Euler's method"
   ]
  },
  {
   "attachments": {},
   "cell_type": "markdown",
   "metadata": {},
   "source": [
    "Here we use the similar pattern to the previous function, copy a set of new X, Y arrays, and iterate the solution with Modified Euler's method. "
   ]
  },
  {
   "cell_type": "code",
   "execution_count": 6,
   "metadata": {},
   "outputs": [],
   "source": [
    "def Solve_ModEuler(x0,y0,func_ODE,h):\n",
    "    def slope(x,y,func_ODE):\n",
    "        return func_ODE(x,y)\n",
    "    x1 = x0 + h\n",
    "    y1 = y0 + slope(x0,y0,func_ODE)*h\n",
    "    y1 = y0 + (slope(x0,y0,func_ODE)+slope(x1,y1,func_ODE))*h/2\n",
    "    \n",
    "    return x1,y1"
   ]
  },
  {
   "cell_type": "code",
   "execution_count": 7,
   "metadata": {},
   "outputs": [],
   "source": [
    "X12 = X.copy()\n",
    "Y12 = Y.copy()"
   ]
  },
  {
   "cell_type": "code",
   "execution_count": 8,
   "metadata": {},
   "outputs": [
    {
     "name": "stdout",
     "output_type": "stream",
     "text": [
      "30.7 µs ± 777 ns per loop (mean ± std. dev. of 7 runs, 10,000 loops each)\n"
     ]
    }
   ],
   "source": [
    "%%timeit\n",
    "for i in range(1,int((19-1)/h+1)):\n",
    "    X12[i],Y12[i] = Solve_ModEuler(X12[i-1],Y12[i-1],func_ODE,h)\n",
    "    #print(X[i],Y[i])"
   ]
  },
  {
   "attachments": {},
   "cell_type": "markdown",
   "metadata": {},
   "source": [
    "We still use %%timeit to calculate the mean operation time. "
   ]
  },
  {
   "attachments": {},
   "cell_type": "markdown",
   "metadata": {},
   "source": [
    "#### 1.3 RK4 method"
   ]
  },
  {
   "attachments": {},
   "cell_type": "markdown",
   "metadata": {},
   "source": [
    "Still the same pattern, but this time is the RK4 method. This involves more complicated calculation, so more x2, y2, etc. are added, but the final value are x4 and y4."
   ]
  },
  {
   "cell_type": "code",
   "execution_count": 9,
   "metadata": {},
   "outputs": [],
   "source": [
    "def Solve_RK4(x0,y0,func_ODE,h):\n",
    "    def slope(x,y,func_ODE):\n",
    "        return func_ODE(x,y)\n",
    "    \n",
    "    k1 = slope(x0,y0,func_ODE)\n",
    "    x1 = x0 + h/2\n",
    "    y1 = y0 + k1*h/2\n",
    "    k2 = slope(x1,y1,func_ODE)\n",
    "    x2 = x0 + h/2\n",
    "    y2 = y0 + k2*h/2\n",
    "    k3 = slope(x2,y2,func_ODE)\n",
    "    x3 = x0 + h\n",
    "    y3 = y0 + k3*h\n",
    "    k4 = slope(x3,y3,func_ODE)\n",
    "\n",
    "    x4 = x0 + h\n",
    "    y4 = y0 + (k1+2*k2+2*k3+k4)*h/6\n",
    "    \n",
    "    return x4,y4"
   ]
  },
  {
   "cell_type": "code",
   "execution_count": 10,
   "metadata": {},
   "outputs": [],
   "source": [
    "X13 = X.copy()\n",
    "Y13 = Y.copy()"
   ]
  },
  {
   "cell_type": "code",
   "execution_count": 11,
   "metadata": {},
   "outputs": [
    {
     "name": "stdout",
     "output_type": "stream",
     "text": [
      "49.5 µs ± 519 ns per loop (mean ± std. dev. of 7 runs, 10,000 loops each)\n"
     ]
    }
   ],
   "source": [
    "%%timeit\n",
    "for i in range(1,int((19-1)/h+1)):\n",
    "    X13[i],Y13[i] = Solve_RK4(X13[i-1],Y13[i-1],func_ODE,h)"
   ]
  },
  {
   "attachments": {},
   "cell_type": "markdown",
   "metadata": {},
   "source": [
    "Still use %%timeit to record the operation time."
   ]
  },
  {
   "attachments": {},
   "cell_type": "markdown",
   "metadata": {},
   "source": [
    "#### 1.4 Compare with true solution"
   ]
  },
  {
   "attachments": {},
   "cell_type": "markdown",
   "metadata": {},
   "source": [
    "Here we use a function to calcaulate the true solution given by the equation in the question. "
   ]
  },
  {
   "cell_type": "code",
   "execution_count": 12,
   "metadata": {},
   "outputs": [],
   "source": [
    "def True_Sol(X):\n",
    "    return X+(X**2)/2+np.exp(2*X-2)+1/2\n",
    "X_true = X.copy()\n",
    "Y_true = True_Sol(X_true)"
   ]
  },
  {
   "attachments": {},
   "cell_type": "markdown",
   "metadata": {},
   "source": [
    "Then, we plot all results: in Euler's method (1.1), Modified Euler method (1.2), RK4 method (1.3) and the True solution, in the graph below."
   ]
  },
  {
   "cell_type": "code",
   "execution_count": 13,
   "metadata": {},
   "outputs": [
    {
     "data": {
      "image/png": "[encoded data removed]",
      "text/plain": [
       "<Figure size 640x480 with 1 Axes>"
      ]
     },
     "metadata": {},
     "output_type": "display_data"
    }
   ],
   "source": [
    "plt.plot(X_true, Y_true)\n",
    "plt.plot(X11, Y11)\n",
    "plt.plot(X12, Y12)\n",
    "plt.plot(X13, Y13)\n",
    "plt.ylim(bottom=1,top=1e16)\n",
    "plt.legend(['True Solution', 'Euler', 'ModEuler', 'RK4'])\n",
    "plt.yscale('log')\n",
    "plt.grid()"
   ]
  },
  {
   "cell_type": "code",
   "execution_count": 14,
   "metadata": {},
   "outputs": [
    {
     "name": "stdout",
     "output_type": "stream",
     "text": [
      "270708.56248459144 49.91819122898128 1.266309221655393\n"
     ]
    }
   ],
   "source": [
    "# the ratio of the true solution and the numerical solutions\n",
    "print(Y_true[-1]/Y11[-1],Y_true[-1]/Y12[-1],Y_true[-1]/Y13[-1])"
   ]
  },
  {
   "attachments": {},
   "cell_type": "markdown",
   "metadata": {},
   "source": [
    "As shown in the graph, we can see that the RK4 solution is the most closed to the true solution, at least in the same order of magnitude. The other two solutions show the same exponential increasing trend, but are different in the order of magnitude of the final solution: about 300000 times for Euler's method and 50 times for Modified Euler's method. "
   ]
  },
  {
   "attachments": {},
   "cell_type": "markdown",
   "metadata": {},
   "source": [
    "Then, we calculate and plot the relative errors of the three numerical methods, compared to the true solution."
   ]
  },
  {
   "cell_type": "code",
   "execution_count": 15,
   "metadata": {},
   "outputs": [
    {
     "data": {
      "image/png": "[encoded data removed]",
      "text/plain": [
       "<Figure size 640x480 with 1 Axes>"
      ]
     },
     "metadata": {},
     "output_type": "display_data"
    }
   ],
   "source": [
    "relative0 = (Y_true - Y_true)/Y_true\n",
    "relative1 = (Y_true - Y11)/Y_true\n",
    "relative2 = (Y_true - Y12)/Y_true\n",
    "relative3 = (Y_true - Y13)/Y_true\n",
    "\n",
    "plt.plot(X, relative0 * 100)\n",
    "plt.plot(X, relative1 * 100)\n",
    "plt.plot(X, relative2 * 100)\n",
    "plt.plot(X, relative3 * 100)\n",
    "plt.ylabel('Relative Error [%]')\n",
    "plt.legend(['True Solution', 'Euler', 'ModEuler', 'RK4'])\n",
    "plt.grid()"
   ]
  },
  {
   "attachments": {},
   "cell_type": "markdown",
   "metadata": {},
   "source": [
    "#### 1.5 "
   ]
  },
  {
   "attachments": {},
   "cell_type": "markdown",
   "metadata": {},
   "source": [
    "We've used %%timeit to calculate the mean operation time of the three numerical methods, the results are presented in the following table. Worth noticed that the mean time may be different in each test, so the number is based on our attempt. \n",
    "\n",
    "|Numerical method|Mean Operation Time|\n",
    "|-|-|\n",
    "|Euler|15.8 µs ± 162 ns|\n",
    "|Modified Euler|30.8 µs ± 190 ns|\n",
    "|RK4|49.3 µs ± 335 ns|"
   ]
  },
  {
   "attachments": {},
   "cell_type": "markdown",
   "metadata": {},
   "source": [
    "By the table above, we can quantitatively see the clear difference between the efficiency of the three methods. The Euler's method is the fastest, and the Modiefied Euler's method use twice the time. RK4 method is the slowest, which takes more than three times of the Euler's method's to get the solution. "
   ]
  },
  {
   "attachments": {},
   "cell_type": "markdown",
   "metadata": {},
   "source": [
    "|\t|Time (order)\t|Accuracy (order)|\n",
    "|---------------|----|---|\n",
    "|Euler          |   1|\t3|\n",
    "|Modified Euler |   2|\t2|\n",
    "|RK4 method     |   3|\t1|"
   ]
  },
  {
   "attachments": {},
   "cell_type": "markdown",
   "metadata": {},
   "source": [
    "Qualitatively, the Euler method is simple and efficient but inaccurate for complex systems. The RK4 method is more accurate but computationally expensive, making it less efficient for simple problems. Choosing efficiency over accuracy can lead to unreliable results. In this case, both Euler and Modified Euler methods lead to unacceptably high errors, while the error of the RK4 method is relatively controllable. Therefore, it’s necessary to choose a slower but reliable method (here, the RK4 method), or what we lost will go beyond our control. "
   ]
  },
  {
   "attachments": {},
   "cell_type": "markdown",
   "metadata": {},
   "source": [
    "#### 1.6 test how small h Euler needs to have the same accuracy as RK4"
   ]
  },
  {
   "cell_type": "code",
   "execution_count": 16,
   "metadata": {},
   "outputs": [
    {
     "name": "stdout",
     "output_type": "stream",
     "text": [
      "7 0.0046875\n"
     ]
    }
   ],
   "source": [
    "#%%time\n",
    "X16 = X11.copy()\n",
    "Y16 = Y11.copy()\n",
    "j = 0\n",
    "h16 = 0.6\n",
    "while (abs(Y16[-1]-Y_true[-1]) > abs(Y13[-1]-Y_true[-1])):\n",
    "    h16 /= 2\n",
    "    X16 = np.linspace(1,19,int((19-1)/h16+1),dtype=np.float64)\n",
    "    Y16 = 3*np.ones(int((19-1)/h16+1))\n",
    "    for i in range(1,int((19-1)/h16+1)):\n",
    "        X16[i],Y16[i] = Solve_Euler(X16[i-1],Y16[i-1],func_ODE,h16)\n",
    "    j += 1\n",
    "print(j,h16)\n",
    "#print(np.log(h16/0.6)/np.log(0.5))"
   ]
  },
  {
   "attachments": {},
   "cell_type": "markdown",
   "metadata": {},
   "source": [
    "By the code above, we know that once the h is reduced by half 7 times, i.e. the new $h' = h \\times 2^{-7} = 0.0046875$.Although the solution is not the exact solution, which it actually between $h \\times 2^{-6}$ and $h \\times 2^{-7}$, but we are closed enough to it. \n",
    "The rough answer give us the idea that the x interval used to iterate must be relatively very small to the original to reach the same accuracy with RK4 method."
   ]
  },
  {
   "attachments": {},
   "cell_type": "markdown",
   "metadata": {},
   "source": [
    "An additional graph is shown below to proove how we reach the final $\\small h'$, this graph is drawn by another classmate so we just put it here:  \n",
    "\n",
    "![](EulervsRK4.png)\n",
    "\n",
    "We can see the line of Euler's method (those other than the red and the blue lines) gradually reach the true solution and finally exceed the RK4's. "
   ]
  },
  {
   "attachments": {},
   "cell_type": "markdown",
   "metadata": {},
   "source": [
    "#### 1.7"
   ]
  },
  {
   "attachments": {},
   "cell_type": "markdown",
   "metadata": {},
   "source": [
    "Here we run the Euler method with the final $\\small h'$ once again to calculate the mean operation time for the loop. "
   ]
  },
  {
   "cell_type": "code",
   "execution_count": 17,
   "metadata": {},
   "outputs": [],
   "source": [
    "X16 = np.linspace(1,19,int((19-1)/h16+1),dtype=np.float64)\n",
    "Y16 = 3*np.ones(int((19-1)/h16+1))"
   ]
  },
  {
   "cell_type": "code",
   "execution_count": 18,
   "metadata": {},
   "outputs": [
    {
     "name": "stdout",
     "output_type": "stream",
     "text": [
      "1.98 ms ± 21.4 µs per loop (mean ± std. dev. of 7 runs, 100 loops each)\n"
     ]
    }
   ],
   "source": [
    "%%timeit\n",
    "for i in range(1,int((19-1)/h16+1)):\n",
    "    X16[i],Y16[i] = Solve_Euler(X16[i-1],Y16[i-1],func_ODE,h16)"
   ]
  },
  {
   "attachments": {},
   "cell_type": "markdown",
   "metadata": {},
   "source": [
    "The number of our attempt shows that the mean operation time is **2.02 ms ± 36.3 µs**. This is about 40 times of the RK4 method's (49.3 µs ± 335 ns). \n",
    "Therefore, to get the same accuracy, the Euler method is 40 times slower than the RK4 method. And we can conclude this along with what we've done in 1.5:  \n",
    "Although Euler's method is faster than RK4 method with the same h, but it whether lead to disastrous error, or is needed much more time (and the tinier h) to get the same accuracy. Therefore, RK4 is much better than the Euler's method in solving 1st order ODE. "
   ]
  }
 ],
 "metadata": {
  "kernelspec": {
   "display_name": "base",
   "language": "python",
   "name": "python3"
  },
  "language_info": {
   "codemirror_mode": {
    "name": "ipython",
    "version": 3
   },
   "file_extension": ".py",
   "mimetype": "text/x-python",
   "name": "python",
   "nbconvert_exporter": "python",
   "pygments_lexer": "ipython3",
   "version": "3.10.8"
  },
  "orig_nbformat": 4
 },
 "nbformat": 4,
 "nbformat_minor": 2
}
