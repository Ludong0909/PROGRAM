{
 "cells": [
  {
   "attachments": {},
   "cell_type": "markdown",
   "metadata": {},
   "source": [
    "### Hw8 Q3 for PBC"
   ]
  },
  {
   "cell_type": "code",
   "execution_count": null,
   "metadata": {},
   "outputs": [],
   "source": [
    "import csv, datetime\n",
    "import matplotlib.pyplot as plt\n",
    "import numpy as np\n",
    "import pandas as pd"
   ]
  },
  {
   "attachments": {},
   "cell_type": "markdown",
   "metadata": {},
   "source": [
    "#### Open csv"
   ]
  },
  {
   "cell_type": "code",
   "execution_count": null,
   "metadata": {},
   "outputs": [],
   "source": [
    "file = open('submission_complete.csv', 'r')\n",
    "csvfile = csv.DictReader(file)"
   ]
  },
  {
   "attachments": {},
   "cell_type": "markdown",
   "metadata": {},
   "source": [
    "#### Read data"
   ]
  },
  {
   "cell_type": "code",
   "execution_count": null,
   "metadata": {},
   "outputs": [],
   "source": [
    "challenge_title = []\n",
    "problem_label = []\n",
    "submission_submit_time = []\n",
    "submission_code_length = []\n",
    "submission_result_verdict = []\n",
    "submission_result_score = []\n",
    "submission_result_time = []\n",
    "submission_result_memory = []\n",
    "anonymous_account = []\n",
    "for row in csvfile:\n",
    "    anonymous_account.append(row['anonymous_account'])  # user name\n",
    "    challenge_title.append (row['challenge_title'])  # HW0\n",
    "    problem_label.append (row['problem_label'])  # Q1\n",
    "    submission_submit_time.append (row['submission_submit_time'])  # 2023-02-19 00:45:25.788671\n",
    "    submission_code_length.append (row['submission_code_length'])  # 178\n",
    "    submission_result_verdict.append (row['submission_result_verdict'])  # WRONG ANSWER\n",
    "    submission_result_score.append (row['submission_result_score'])  # 0\n",
    "    submission_result_time.append (row['submission_result_time'])  # 352 [ms]\n",
    "    submission_result_memory.append (row['submission_result_memory'])  # 3052 [kb]\n"
   ]
  },
  {
   "attachments": {},
   "cell_type": "markdown",
   "metadata": {},
   "source": [
    "#### functions "
   ]
  },
  {
   "cell_type": "code",
   "execution_count": null,
   "metadata": {},
   "outputs": [],
   "source": [
    "# function to convert time\n",
    "def time_to_seconds(time_str):\n",
    "    reference_time_str = '2023-02-19 00:00:00'\n",
    "    reference_time = datetime.strptime(reference_time_str, '%Y-%m-%d %H:%M:%S')\n",
    "    time = datetime.strptime(time_str, '%Y-%m-%d %H:%M:%S.%f')\n",
    "    return int((time - reference_time).total_seconds())\n"
   ]
  },
  {
   "attachments": {},
   "cell_type": "markdown",
   "metadata": {},
   "source": [
    "#### Convert label to integer "
   ]
  },
  {
   "cell_type": "code",
   "execution_count": null,
   "metadata": {},
   "outputs": [],
   "source": [
    "question_name = []\n",
    "for i in range(len(challenge_title)):\n",
    "    question_name.append(challenge_title[i].strip() + problem_label[i].strip())\n",
    "\n",
    "question_label = np.zeros(len(challenge_title), dtype=float)\n",
    "i = 0\n",
    "for name in (question_name):\n",
    "    if name[0:2] == 'HW':\n",
    "        question_label[i] = 1000 * int(name[2]) + int(name[-1])\n",
    "    elif name[0:9] == 'Midterm 1':  # Midterm 1 bonusQ1 = midterm1Q5\n",
    "        question_label[i] = 1000 * (8) + 5\n",
    "    elif name[0:4] == 'Quiz':  # Quiz\n",
    "        question_label[i] = 1000 * (10) + int(name[-1])\n",
    "    else:\n",
    "        question_label[i] = 1000 * (int(name[7]) +7) + int(name[-1])\n",
    "    i += 1\n"
   ]
  }
 ],
 "metadata": {
  "language_info": {
   "name": "python"
  },
  "orig_nbformat": 4
 },
 "nbformat": 4,
 "nbformat_minor": 2
}
